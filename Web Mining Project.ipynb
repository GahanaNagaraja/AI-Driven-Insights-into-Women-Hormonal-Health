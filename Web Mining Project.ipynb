{
  "nbformat": 4,
  "nbformat_minor": 0,
  "metadata": {
    "colab": {
      "provenance": []
    },
    "kernelspec": {
      "name": "python3",
      "display_name": "Python 3"
    },
    "language_info": {
      "name": "python"
    }
  },
  "cells": [
    {
      "cell_type": "markdown",
      "source": [
        "# **BIA-660 WEB MINING-GROUP PROJECT**\n",
        "\n",
        "---\n",
        "\n"
      ],
      "metadata": {
        "id": "aQylGoub3rtI"
      }
    },
    {
      "cell_type": "markdown",
      "source": [
        "## **Web-Based** **Analysis** **of** **Women Hormonal Health** **Challenges** **using** **Data** **mining** **and** **NLP** **Techniques**\n",
        "\n",
        "GROUP MEMBERS: Gahana Nagaraja, Namratha Nagathihalli Anantha, Vaishnavi Rajendra Dhotargavi  \n"
      ],
      "metadata": {
        "id": "C67W0u9l4NIT"
      }
    },
    {
      "cell_type": "code",
      "execution_count": 49,
      "metadata": {
        "colab": {
          "base_uri": "https://localhost:8080/"
        },
        "id": "5naTCrBYWpi2",
        "outputId": "91a7f65c-a624-49e3-f4ec-b022d0218736"
      },
      "outputs": [
        {
          "output_type": "stream",
          "name": "stdout",
          "text": [
            "Requirement already satisfied: nest_asyncio in /usr/local/lib/python3.10/dist-packages (1.6.0)\n"
          ]
        }
      ],
      "source": [
        "!pip install nest_asyncio"
      ]
    },
    {
      "cell_type": "code",
      "source": [
        "pip install asyncpraw"
      ],
      "metadata": {
        "colab": {
          "base_uri": "https://localhost:8080/"
        },
        "id": "o0RpNff4Rj5a",
        "outputId": "4937ad43-0130-416c-9e54-46cc41d1d040"
      },
      "execution_count": 50,
      "outputs": [
        {
          "output_type": "stream",
          "name": "stdout",
          "text": [
            "Requirement already satisfied: asyncpraw in /usr/local/lib/python3.10/dist-packages (7.8.0)\n",
            "Requirement already satisfied: aiofiles in /usr/local/lib/python3.10/dist-packages (from asyncpraw) (24.1.0)\n",
            "Requirement already satisfied: aiohttp<4 in /usr/local/lib/python3.10/dist-packages (from asyncpraw) (3.11.9)\n",
            "Requirement already satisfied: aiosqlite<=0.17.0 in /usr/local/lib/python3.10/dist-packages (from asyncpraw) (0.17.0)\n",
            "Requirement already satisfied: asyncprawcore<3,>=2.1 in /usr/local/lib/python3.10/dist-packages (from asyncpraw) (2.4.0)\n",
            "Requirement already satisfied: update_checker>=0.18 in /usr/local/lib/python3.10/dist-packages (from asyncpraw) (0.18.0)\n",
            "Requirement already satisfied: aiohappyeyeballs>=2.3.0 in /usr/local/lib/python3.10/dist-packages (from aiohttp<4->asyncpraw) (2.4.4)\n",
            "Requirement already satisfied: aiosignal>=1.1.2 in /usr/local/lib/python3.10/dist-packages (from aiohttp<4->asyncpraw) (1.3.1)\n",
            "Requirement already satisfied: async-timeout<6.0,>=4.0 in /usr/local/lib/python3.10/dist-packages (from aiohttp<4->asyncpraw) (4.0.3)\n",
            "Requirement already satisfied: attrs>=17.3.0 in /usr/local/lib/python3.10/dist-packages (from aiohttp<4->asyncpraw) (24.2.0)\n",
            "Requirement already satisfied: frozenlist>=1.1.1 in /usr/local/lib/python3.10/dist-packages (from aiohttp<4->asyncpraw) (1.5.0)\n",
            "Requirement already satisfied: multidict<7.0,>=4.5 in /usr/local/lib/python3.10/dist-packages (from aiohttp<4->asyncpraw) (6.1.0)\n",
            "Requirement already satisfied: propcache>=0.2.0 in /usr/local/lib/python3.10/dist-packages (from aiohttp<4->asyncpraw) (0.2.1)\n",
            "Requirement already satisfied: yarl<2.0,>=1.17.0 in /usr/local/lib/python3.10/dist-packages (from aiohttp<4->asyncpraw) (1.18.3)\n",
            "Requirement already satisfied: typing_extensions>=3.7.2 in /usr/local/lib/python3.10/dist-packages (from aiosqlite<=0.17.0->asyncpraw) (4.12.2)\n",
            "Requirement already satisfied: requests>=2.3.0 in /usr/local/lib/python3.10/dist-packages (from update_checker>=0.18->asyncpraw) (2.32.3)\n",
            "Requirement already satisfied: charset-normalizer<4,>=2 in /usr/local/lib/python3.10/dist-packages (from requests>=2.3.0->update_checker>=0.18->asyncpraw) (3.4.0)\n",
            "Requirement already satisfied: idna<4,>=2.5 in /usr/local/lib/python3.10/dist-packages (from requests>=2.3.0->update_checker>=0.18->asyncpraw) (3.10)\n",
            "Requirement already satisfied: urllib3<3,>=1.21.1 in /usr/local/lib/python3.10/dist-packages (from requests>=2.3.0->update_checker>=0.18->asyncpraw) (2.2.3)\n",
            "Requirement already satisfied: certifi>=2017.4.17 in /usr/local/lib/python3.10/dist-packages (from requests>=2.3.0->update_checker>=0.18->asyncpraw) (2024.8.30)\n"
          ]
        }
      ]
    },
    {
      "cell_type": "markdown",
      "source": [
        "# **EXPLORATORY DATA ANALYSIS**"
      ],
      "metadata": {
        "id": "bv_buajDzGxm"
      }
    },
    {
      "cell_type": "markdown",
      "source": [
        "## **Web Scraping from Reddit**"
      ],
      "metadata": {
        "id": "N-DHcMiczOiN"
      }
    },
    {
      "cell_type": "code",
      "source": [
        "import asyncpraw\n",
        "import pandas as pd\n",
        "import nest_asyncio\n",
        "import asyncio\n",
        "\n",
        "# Apply nest_asyncio to allow nested event loops\n",
        "nest_asyncio.apply()\n",
        "\n",
        "# Configure Reddit API credentials\n",
        "reddit = asyncpraw.Reddit(\n",
        "    client_id=\"S7U_hwLdA6G1oAG9LupOtQ\",\n",
        "    client_secret=\"hyv2gAc1PETc0y-GZ3-vSidUmT7pnA\",\n",
        "    user_agent=\"WebMining by /u/Web_Mining_660\"\n",
        ")\n",
        "\n",
        "# Define an asynchronous function to fetch subreddit data\n",
        "async def fetch_reddit_data(subreddit_name, keyword, limit=100):\n",
        "    try:\n",
        "        subreddit = await reddit.subreddit(subreddit_name)\n",
        "        posts_data = []\n",
        "\n",
        "        # Check if subreddit exists and is accessible\n",
        "        if not subreddit:\n",
        "            print(f\"Failed to access subreddit: {subreddit_name}\")\n",
        "            return pd.DataFrame(columns=[\"title\", \"selftext\", \"upvotes\", \"comments\"])\n",
        "\n",
        "        # Fetch posts based on search term\n",
        "        async for post in subreddit.search(keyword, limit=limit):\n",
        "            post_info = {\n",
        "                \"title\": post.title,\n",
        "                \"selftext\": post.selftext,\n",
        "                \"upvotes\": post.score,\n",
        "                \"comments\": []\n",
        "            }\n",
        "\n",
        "            # Replace more comments if needed\n",
        "            if post.comments:\n",
        "                await post.comments.replace_more(limit=0)\n",
        "\n",
        "                # Extract comments\n",
        "                async for comment in post.comments.list():\n",
        "                    post_info[\"comments\"].append(comment.body)\n",
        "\n",
        "            posts_data.append(post_info)\n",
        "\n",
        "        # If no data is fetched, return an empty DataFrame\n",
        "        if not posts_data:\n",
        "            print(f\"No posts found for {subreddit_name} with keyword {keyword}\")\n",
        "            return pd.DataFrame(columns=[\"title\", \"selftext\", \"upvotes\", \"comments\"])\n",
        "\n",
        "        return pd.DataFrame(posts_data)\n",
        "\n",
        "    except Exception as e:\n",
        "        print(f\"An error occurred while fetching data from {subreddit_name}: {e}\")\n",
        "        return pd.DataFrame(columns=[\"title\", \"selftext\", \"upvotes\", \"comments\"])  # Return empty DataFrame on error\n",
        "\n",
        "# Asynchronous wrapper to run the function\n",
        "async def main():\n",
        "    try:\n",
        "        # Fetch data asynchronously\n",
        "        pcos_data = await fetch_reddit_data(\"PCOS\", \"PCOS\")\n",
        "        thyroid_data = await fetch_reddit_data(\"thyroidhealth\", \"thyroid\")\n",
        "\n",
        "        # Save data to JSON if fetched\n",
        "        if not pcos_data.empty:\n",
        "            pcos_data.to_json(\"pcos_data.json\", orient=\"records\")\n",
        "            print(\"PCOS data saved successfully.\")\n",
        "        else:\n",
        "            print(\"PCOS data fetch failed.\")\n",
        "\n",
        "        if not thyroid_data.empty:\n",
        "            thyroid_data.to_json(\"thyroid_data.json\", orient=\"records\")\n",
        "            print(\"Thyroid data saved successfully.\")\n",
        "        else:\n",
        "            print(\"Thyroid data fetch failed.\")\n",
        "    finally:\n",
        "        # Ensure the session is properly closed after the task\n",
        "        await reddit.close()\n",
        "\n",
        "# Run the main function\n",
        "await main()"
      ],
      "metadata": {
        "colab": {
          "base_uri": "https://localhost:8080/"
        },
        "id": "aCkxLYbAjGj8",
        "outputId": "30da9dac-cd81-4efb-d445-ae236a419580"
      },
      "execution_count": 51,
      "outputs": [
        {
          "output_type": "stream",
          "name": "stdout",
          "text": [
            "PCOS data saved successfully.\n",
            "Thyroid data saved successfully.\n"
          ]
        }
      ]
    },
    {
      "cell_type": "markdown",
      "source": [
        "## **Web Scraping from other health websites**"
      ],
      "metadata": {
        "id": "AkkHSCnGzYn2"
      }
    },
    {
      "cell_type": "code",
      "source": [
        "import requests\n",
        "from bs4 import BeautifulSoup\n",
        "import json\n",
        "import pandas as pd\n",
        "\n",
        "# Function to fetch and parse data from a health website\n",
        "def fetch_health_data(url, condition):\n",
        "    try:\n",
        "        response = requests.get(url)\n",
        "        soup = BeautifulSoup(response.text, 'html.parser')\n",
        "\n",
        "        # Example: Find all paragraphs (you may need to adjust this based on the website structure)\n",
        "        paragraphs = soup.find_all('p')\n",
        "\n",
        "        # Extract text from the paragraphs and create a summary\n",
        "        content = \" \".join([para.text for para in paragraphs if para.text])\n",
        "\n",
        "        # Format the extracted content into a dictionary for easy storage\n",
        "        health_info = {\n",
        "            \"condition\": condition,\n",
        "            \"source\": url,\n",
        "            \"content\": content[:1000]  # Limit to first 1000 characters for brevity\n",
        "        }\n",
        "\n",
        "        return health_info\n",
        "    except Exception as e:\n",
        "        print(f\"Error scraping {url}: {e}\")\n",
        "        return None\n",
        "\n",
        "# Scrape data for PCOS and Thyroid health from different websites\n",
        "pcos_urls = [\n",
        "    \"https://www.mayoclinic.org/diseases-conditions/polycystic-ovary-syndrome/symptoms-causes/syc-20350497\",\n",
        "    \"https://www.healthline.com/health/pcos\"\n",
        "]\n",
        "\n",
        "thyroid_urls = [\n",
        "    \"https://www.mayoclinic.org/diseases-conditions/hypothyroidism/symptoms-causes/syc-20350284\",\n",
        "    \"https://www.webmd.com/women/guide/understanding-thyroid-problems\"\n",
        "]\n",
        "\n",
        "# Fetch data for PCOS and Thyroid\n",
        "pcos_data_scraped = []\n",
        "for url in pcos_urls:\n",
        "    data = fetch_health_data(url, \"PCOS\")\n",
        "    if data:\n",
        "        pcos_data_scraped.append(data)\n",
        "\n",
        "thyroid_data_scraped = []\n",
        "for url in thyroid_urls:\n",
        "    data = fetch_health_data(url, \"Thyroid\")\n",
        "    if data:\n",
        "        thyroid_data_scraped.append(data)\n",
        "\n",
        "# Load the existing JSON data into DataFrames\n",
        "try:\n",
        "    pcos_df = pd.read_json(\"pcos_data.json\")\n",
        "    thyroid_df = pd.read_json(\"thyroid_data.json\")\n",
        "except ValueError:\n",
        "    # If the JSON files are empty or don't exist, create empty DataFrames\n",
        "    pcos_df = pd.DataFrame(columns=[\"title\", \"selftext\", \"upvotes\", \"comments\", \"sentiment\", \"emotion\", \"remedy\"])\n",
        "    thyroid_df = pd.DataFrame(columns=[\"title\", \"selftext\", \"upvotes\", \"comments\", \"sentiment\", \"emotion\", \"remedy\"])\n",
        "\n",
        "# Convert the scraped data into DataFrames\n",
        "pcos_scraped_df = pd.DataFrame(pcos_data_scraped)\n",
        "thyroid_scraped_df = pd.DataFrame(thyroid_data_scraped)\n",
        "\n",
        "# Append the scraped data to the existing DataFrames\n",
        "pcos_df = pd.concat([pcos_df, pcos_scraped_df], ignore_index=True)\n",
        "thyroid_df = pd.concat([thyroid_df, thyroid_scraped_df], ignore_index=True)\n",
        "\n",
        "# Save the updated DataFrames back to JSON\n",
        "pcos_df.to_json(\"cure_pcos_data.json\", orient=\"records\")\n",
        "thyroid_df.to_json(\"cure_thyroid_data.json\", orient=\"records\")\n",
        "\n",
        "print(\"PCOS and Thyroid data updated successfully.\")"
      ],
      "metadata": {
        "colab": {
          "base_uri": "https://localhost:8080/"
        },
        "id": "6Cm7juIg54Q-",
        "outputId": "0965606c-faee-4691-c333-3872b8246955"
      },
      "execution_count": 52,
      "outputs": [
        {
          "output_type": "stream",
          "name": "stdout",
          "text": [
            "PCOS and Thyroid data updated successfully.\n"
          ]
        }
      ]
    },
    {
      "cell_type": "markdown",
      "source": [
        "## **Sentiment Analysis**"
      ],
      "metadata": {
        "id": "7dc2rtVhzrRR"
      }
    },
    {
      "cell_type": "code",
      "source": [
        "import nltk\n",
        "nltk.download('vader_lexicon')\n"
      ],
      "metadata": {
        "colab": {
          "base_uri": "https://localhost:8080/"
        },
        "id": "J4pBNwonD0F4",
        "outputId": "8b11d3e7-d6d4-4f46-b649-b0903f905777"
      },
      "execution_count": 53,
      "outputs": [
        {
          "output_type": "stream",
          "name": "stderr",
          "text": [
            "[nltk_data] Downloading package vader_lexicon to /root/nltk_data...\n",
            "[nltk_data]   Package vader_lexicon is already up-to-date!\n"
          ]
        },
        {
          "output_type": "execute_result",
          "data": {
            "text/plain": [
              "True"
            ]
          },
          "metadata": {},
          "execution_count": 53
        }
      ]
    },
    {
      "cell_type": "code",
      "source": [
        "import nltk\n",
        "from nltk.sentiment.vader import SentimentIntensityAnalyzer\n",
        "import pandas as pd\n",
        "\n",
        "# Download the VADER lexicon\n",
        "nltk.download('vader_lexicon')\n",
        "\n",
        "# Initialize VADER sentiment analyzer\n",
        "sia = SentimentIntensityAnalyzer()\n",
        "\n",
        "# Function to perform sentiment analysis using VADER\n",
        "def analyze_sentiment_vader(text):\n",
        "    if not isinstance(text, str):\n",
        "        text = \"\"  # Convert non-string values to empty strings\n",
        "    sentiment_score = sia.polarity_scores(text)\n",
        "    if sentiment_score['compound'] > 0.05:\n",
        "        return 'positive'\n",
        "    elif sentiment_score['compound'] < -0.05:\n",
        "        return 'negative'\n",
        "    else:\n",
        "        return 'neutral'\n",
        "\n",
        "# Apply sentiment analysis to the PCOS and Thyroid Data\n",
        "def add_sentiment_to_df_vader(df):\n",
        "    df['sentiment'] = df['selftext'].apply(analyze_sentiment_vader)\n",
        "    return df\n",
        "\n",
        "# Example: Apply sentiment analysis to the PCOS and Thyroid Data\n",
        "pcos_df = add_sentiment_to_df_vader(pcos_df)\n",
        "thyroid_df = add_sentiment_to_df_vader(thyroid_df)\n",
        "\n",
        "# Save the updated data with sentiment analysis\n",
        "pcos_df.to_json(\"pcos_data_with_sentiment.json\", orient=\"records\")\n",
        "thyroid_df.to_json(\"thyroid_data_with_sentiment.json\", orient=\"records\")\n",
        "\n",
        "print(\"Sentiment analysis complete with VADER and data saved.\")\n"
      ],
      "metadata": {
        "colab": {
          "base_uri": "https://localhost:8080/"
        },
        "id": "iNBZSP2QDY0W",
        "outputId": "bec53f8a-bbd4-4db9-b18c-bf2af267afa4"
      },
      "execution_count": 54,
      "outputs": [
        {
          "output_type": "stream",
          "name": "stderr",
          "text": [
            "[nltk_data] Downloading package vader_lexicon to /root/nltk_data...\n",
            "[nltk_data]   Package vader_lexicon is already up-to-date!\n"
          ]
        },
        {
          "output_type": "stream",
          "name": "stdout",
          "text": [
            "Sentiment analysis complete with VADER and data saved.\n"
          ]
        }
      ]
    },
    {
      "cell_type": "markdown",
      "source": [
        "## **Emotion Detection**"
      ],
      "metadata": {
        "id": "6eTbasP-0l_u"
      }
    },
    {
      "cell_type": "code",
      "source": [
        "!pip install transformers torch"
      ],
      "metadata": {
        "colab": {
          "base_uri": "https://localhost:8080/"
        },
        "id": "VP9TE9v2EN1D",
        "outputId": "7f137dbb-0416-4b3b-e279-4fa2b23480de"
      },
      "execution_count": 55,
      "outputs": [
        {
          "output_type": "stream",
          "name": "stdout",
          "text": [
            "Requirement already satisfied: transformers in /usr/local/lib/python3.10/dist-packages (4.46.3)\n",
            "Requirement already satisfied: torch in /usr/local/lib/python3.10/dist-packages (2.5.1+cu121)\n",
            "Requirement already satisfied: filelock in /usr/local/lib/python3.10/dist-packages (from transformers) (3.16.1)\n",
            "Requirement already satisfied: huggingface-hub<1.0,>=0.23.2 in /usr/local/lib/python3.10/dist-packages (from transformers) (0.26.3)\n",
            "Requirement already satisfied: numpy>=1.17 in /usr/local/lib/python3.10/dist-packages (from transformers) (1.26.4)\n",
            "Requirement already satisfied: packaging>=20.0 in /usr/local/lib/python3.10/dist-packages (from transformers) (24.2)\n",
            "Requirement already satisfied: pyyaml>=5.1 in /usr/local/lib/python3.10/dist-packages (from transformers) (6.0.2)\n",
            "Requirement already satisfied: regex!=2019.12.17 in /usr/local/lib/python3.10/dist-packages (from transformers) (2024.9.11)\n",
            "Requirement already satisfied: requests in /usr/local/lib/python3.10/dist-packages (from transformers) (2.32.3)\n",
            "Requirement already satisfied: tokenizers<0.21,>=0.20 in /usr/local/lib/python3.10/dist-packages (from transformers) (0.20.3)\n",
            "Requirement already satisfied: safetensors>=0.4.1 in /usr/local/lib/python3.10/dist-packages (from transformers) (0.4.5)\n",
            "Requirement already satisfied: tqdm>=4.27 in /usr/local/lib/python3.10/dist-packages (from transformers) (4.66.6)\n",
            "Requirement already satisfied: typing-extensions>=4.8.0 in /usr/local/lib/python3.10/dist-packages (from torch) (4.12.2)\n",
            "Requirement already satisfied: networkx in /usr/local/lib/python3.10/dist-packages (from torch) (3.4.2)\n",
            "Requirement already satisfied: jinja2 in /usr/local/lib/python3.10/dist-packages (from torch) (3.1.4)\n",
            "Requirement already satisfied: fsspec in /usr/local/lib/python3.10/dist-packages (from torch) (2024.10.0)\n",
            "Requirement already satisfied: sympy==1.13.1 in /usr/local/lib/python3.10/dist-packages (from torch) (1.13.1)\n",
            "Requirement already satisfied: mpmath<1.4,>=1.1.0 in /usr/local/lib/python3.10/dist-packages (from sympy==1.13.1->torch) (1.3.0)\n",
            "Requirement already satisfied: MarkupSafe>=2.0 in /usr/local/lib/python3.10/dist-packages (from jinja2->torch) (3.0.2)\n",
            "Requirement already satisfied: charset-normalizer<4,>=2 in /usr/local/lib/python3.10/dist-packages (from requests->transformers) (3.4.0)\n",
            "Requirement already satisfied: idna<4,>=2.5 in /usr/local/lib/python3.10/dist-packages (from requests->transformers) (3.10)\n",
            "Requirement already satisfied: urllib3<3,>=1.21.1 in /usr/local/lib/python3.10/dist-packages (from requests->transformers) (2.2.3)\n",
            "Requirement already satisfied: certifi>=2017.4.17 in /usr/local/lib/python3.10/dist-packages (from requests->transformers) (2024.8.30)\n"
          ]
        }
      ]
    },
    {
      "cell_type": "code",
      "source": [
        "# Check the columns and first few rows of the DataFrame\n",
        "print(pcos_df.columns)\n",
        "print(pcos_df.head())\n",
        "\n",
        "print(thyroid_df.columns)\n",
        "print(thyroid_df.head())\n"
      ],
      "metadata": {
        "colab": {
          "base_uri": "https://localhost:8080/"
        },
        "id": "lrhiQ4WIEqLW",
        "outputId": "a02999b0-995b-4ebc-c697-4834b17e8044"
      },
      "execution_count": 56,
      "outputs": [
        {
          "output_type": "stream",
          "name": "stdout",
          "text": [
            "Index(['title', 'selftext', 'upvotes', 'comments', 'condition', 'source',\n",
            "       'content', 'sentiment'],\n",
            "      dtype='object')\n",
            "                                               title  \\\n",
            "0  Okay PCOS People. I just had an appointment wi...   \n",
            "1  Tell me you have pcos without telling me you h...   \n",
            "2     Signs of PCOS that you didn’t know were PCOS?    \n",
            "3                         Do you have a 'pcos body'?   \n",
            "4                                       pros of pcos   \n",
            "\n",
            "                                            selftext  upvotes comments  \\\n",
            "0  My mom found a pcos clinic and recommended tha...    868.0       []   \n",
            "1  My legs and hips never going up a size but can...    498.0       []   \n",
            "2  I’m curious, what were some signs/symotoms of ...    194.0       []   \n",
            "3  Other than the more masculine fat distribution...    377.0       []   \n",
            "4  do you have any knowladge of advantages of pco...    320.0       []   \n",
            "\n",
            "  condition source content sentiment  \n",
            "0       NaN    NaN     NaN  positive  \n",
            "1       NaN    NaN     NaN  positive  \n",
            "2       NaN    NaN     NaN  positive  \n",
            "3       NaN    NaN     NaN  positive  \n",
            "4       NaN    NaN     NaN  positive  \n",
            "Index(['title', 'selftext', 'upvotes', 'comments', 'condition', 'source',\n",
            "       'content', 'sentiment'],\n",
            "      dtype='object')\n",
            "                                               title  \\\n",
            "0            Living with a Thyroid Nodule Experience   \n",
            "1                How big can a thyroid nodule get...   \n",
            "2  I need help folks… i have this thyroid conditi...   \n",
            "3                      Modern Thyroid Clinic - Scam?   \n",
            "4                      Is my thyroid fighting me????   \n",
            "\n",
            "                                            selftext  upvotes comments  \\\n",
            "0  I see a lot of posts for people having their t...      7.0       []   \n",
            "1  Is there a size where my doctor will say \"Yeah...      3.0       []   \n",
            "2  What could i be doing wrong and what should i ...      5.0       []   \n",
            "3  I was recently a patient at Modern Thyroid Cli...      5.0       []   \n",
            "4  I'm scheduled for a total thyroidectomy next m...     12.0       []   \n",
            "\n",
            "  condition source content sentiment  \n",
            "0       NaN    NaN     NaN  positive  \n",
            "1       NaN    NaN     NaN  positive  \n",
            "2       NaN    NaN     NaN  negative  \n",
            "3       NaN    NaN     NaN  negative  \n",
            "4       NaN    NaN     NaN  negative  \n"
          ]
        }
      ]
    },
    {
      "cell_type": "code",
      "source": [
        "# Check for missing or NaN values in the 'selftext' column\n",
        "print(pcos_df['selftext'].isnull().sum())  # Number of NaN values in 'selftext' column\n",
        "print(thyroid_df['selftext'].isnull().sum())  # Number of NaN values in 'selftext' column\n",
        "\n",
        "# Optional: Replace NaN with empty string\n",
        "pcos_df['selftext'] = pcos_df['selftext'].fillna('')\n",
        "thyroid_df['selftext'] = thyroid_df['selftext'].fillna('')\n"
      ],
      "metadata": {
        "colab": {
          "base_uri": "https://localhost:8080/"
        },
        "id": "EAeFK7CGFKwX",
        "outputId": "d9fb6aa2-f098-4fb8-831e-83133dfb65eb"
      },
      "execution_count": 57,
      "outputs": [
        {
          "output_type": "stream",
          "name": "stdout",
          "text": [
            "2\n",
            "2\n"
          ]
        }
      ]
    },
    {
      "cell_type": "code",
      "source": [
        "from transformers import pipeline\n",
        "\n",
        "# Load pre-trained emotion detection model from Hugging Face\n",
        "emotion_analyzer = pipeline(\"text-classification\", model=\"j-hartmann/emotion-english-distilroberta-base\", truncation=True, max_length=512)\n",
        "\n",
        "# Function to detect emotions in text\n",
        "def detect_emotion(text):\n",
        "    if not isinstance(text, str):\n",
        "        text = \"\"  # Handle non-string values\n",
        "\n",
        "    # Run emotion detection with truncation (maximum length 512 tokens)\n",
        "    result = emotion_analyzer(text)\n",
        "\n",
        "    # Access the emotion label\n",
        "    if isinstance(result, list) and len(result) > 0:\n",
        "        emotion = result[0]['label']  # Access the emotion label\n",
        "    else:\n",
        "        emotion = \"Unknown\"  # Default case in case of any error\n",
        "\n",
        "    return emotion\n",
        "\n",
        "# Test emotion detection on a small subset of data\n",
        "test_pcos_df = pcos_df.head(5).copy()  # Create a copy of the first 5 rows for debugging\n",
        "test_thyroid_df = thyroid_df.head(5).copy()\n",
        "\n",
        "# Apply emotion detection to the subset using .loc[] to avoid SettingWithCopyWarning\n",
        "test_pcos_df.loc[:, 'emotion'] = test_pcos_df['selftext'].apply(detect_emotion)\n",
        "test_thyroid_df.loc[:, 'emotion'] = test_thyroid_df['selftext'].apply(detect_emotion)\n",
        "\n",
        "# Print the results\n",
        "print(test_pcos_df[['selftext', 'emotion']])\n",
        "print(test_thyroid_df[['selftext', 'emotion']])\n"
      ],
      "metadata": {
        "colab": {
          "base_uri": "https://localhost:8080/"
        },
        "id": "RQ-VGj6CFkJR",
        "outputId": "d652734a-8a23-4e5a-ddc6-f729d0822ed9"
      },
      "execution_count": 58,
      "outputs": [
        {
          "output_type": "stream",
          "name": "stdout",
          "text": [
            "                                            selftext  emotion\n",
            "0  My mom found a pcos clinic and recommended tha...  neutral\n",
            "1  My legs and hips never going up a size but can...  sadness\n",
            "2  I’m curious, what were some signs/symotoms of ...  disgust\n",
            "3  Other than the more masculine fat distribution...  neutral\n",
            "4  do you have any knowladge of advantages of pco...      joy\n",
            "                                            selftext  emotion\n",
            "0  I see a lot of posts for people having their t...     fear\n",
            "1  Is there a size where my doctor will say \"Yeah...  neutral\n",
            "2  What could i be doing wrong and what should i ...     fear\n",
            "3  I was recently a patient at Modern Thyroid Cli...  neutral\n",
            "4  I'm scheduled for a total thyroidectomy next m...     fear\n"
          ]
        }
      ]
    },
    {
      "cell_type": "code",
      "source": [
        "def detect_emotion(text):\n",
        "    if not isinstance(text, str):\n",
        "        text = \"\"  # Handle non-string values\n",
        "\n",
        "    # Tokenize and check the length\n",
        "    tokens = emotion_analyzer.tokenizer(text)\n",
        "    print(f\"Original text length: {len(tokens['input_ids'])} tokens\")\n",
        "\n",
        "    # Run emotion detection with truncation\n",
        "    result = emotion_analyzer(text)\n",
        "\n",
        "    if isinstance(result, list) and len(result) > 0:\n",
        "        emotion = result[0]['label']  # Access the emotion label\n",
        "    else:\n",
        "        emotion = \"Unknown\"\n",
        "\n",
        "    return emotion\n"
      ],
      "metadata": {
        "id": "6-1ZNFMiGEv2"
      },
      "execution_count": 59,
      "outputs": []
    },
    {
      "cell_type": "code",
      "source": [
        "import warnings\n",
        "warnings.filterwarnings(\"ignore\", category=FutureWarning)"
      ],
      "metadata": {
        "id": "FY2I8pqNGNOT"
      },
      "execution_count": 60,
      "outputs": []
    },
    {
      "cell_type": "code",
      "source": [
        "import pandas as pd\n",
        "from transformers import pipeline\n",
        "import nltk\n",
        "\n",
        "# Ensure the necessary models and lexicons are loaded\n",
        "nltk.download('vader_lexicon')\n",
        "sia = SentimentIntensityAnalyzer()\n",
        "\n",
        "# Emotion detection model from Hugging Face\n",
        "emotion_analyzer = pipeline(\"text-classification\", model=\"j-hartmann/emotion-english-distilroberta-base\", truncation=True, max_length=512)\n",
        "\n",
        "# Function for sentiment analysis\n",
        "def analyze_sentiment_vader(text):\n",
        "    if not isinstance(text, str):\n",
        "        text = \"\"  # Convert non-string values to empty strings\n",
        "    sentiment_score = sia.polarity_scores(text)\n",
        "    if sentiment_score['compound'] > 0.05:\n",
        "        return 'positive'\n",
        "    elif sentiment_score['compound'] < -0.05:\n",
        "        return 'negative'\n",
        "    else:\n",
        "        return 'neutral'\n",
        "\n",
        "# Apply sentiment analysis to the DataFrame\n",
        "def add_sentiment_to_df_vader(df):\n",
        "    df['sentiment'] = df['selftext'].apply(analyze_sentiment_vader)\n",
        "    return df\n",
        "\n",
        "# Function to detect emotions\n",
        "def detect_emotion(text):\n",
        "    if not isinstance(text, str):\n",
        "        text = \"\"  # Handle non-string values\n",
        "\n",
        "    result = emotion_analyzer(text)\n",
        "    if isinstance(result, list) and len(result) > 0:\n",
        "        emotion = result[0]['label']\n",
        "    else:\n",
        "        emotion = \"Unknown\"\n",
        "\n",
        "    return emotion\n",
        "\n",
        "# Function to add emotion to the DataFrame\n",
        "def add_emotion_to_df(df):\n",
        "    df['emotion'] = df['selftext'].apply(detect_emotion)\n",
        "    return df\n",
        "\n",
        "# Assuming you have scraped data for pcos_data and thyroid_data\n",
        "# For example purposes, we're using mock data\n",
        "pcos_data = [\n",
        "    {\"selftext\": \"PCOS causes irregular periods and affects fertility.\", \"title\": \"PCOS Overview\", \"upvotes\": 50},\n",
        "    {\"selftext\": \"PCOS is often accompanied by weight gain and acne.\", \"title\": \"PCOS Symptoms\", \"upvotes\": 30}\n",
        "]\n",
        "\n",
        "thyroid_data = [\n",
        "    {\"selftext\": \"Hypothyroidism can lead to fatigue and weight gain.\", \"title\": \"Hypothyroidism Symptoms\", \"upvotes\": 100},\n",
        "    {\"selftext\": \"Thyroid problems are common and can affect metabolism.\", \"title\": \"Thyroid Overview\", \"upvotes\": 80}\n",
        "]\n",
        "\n",
        "# Convert mock data to DataFrames\n",
        "pcos_df = pd.DataFrame(pcos_data)\n",
        "thyroid_df = pd.DataFrame(thyroid_data)\n",
        "\n",
        "# Add sentiment and emotion to the DataFrames\n",
        "pcos_df = add_sentiment_to_df_vader(pcos_df)\n",
        "thyroid_df = add_sentiment_to_df_vader(thyroid_df)\n",
        "\n",
        "pcos_df = add_emotion_to_df(pcos_df)\n",
        "thyroid_df = add_emotion_to_df(thyroid_df)\n",
        "\n",
        "# Now combine the two DataFrames\n",
        "combined_df = pd.concat([pcos_df[['selftext', 'emotion']], thyroid_df[['selftext', 'emotion']]], ignore_index=True)\n",
        "\n",
        "# Check if there are any missing values in the 'selftext' or 'emotion' columns\n",
        "combined_df = combined_df.dropna(subset=['selftext', 'emotion'])\n",
        "\n",
        "# Save the combined DataFrame with 'selftext' and 'emotion' to a CSV file\n",
        "combined_df.to_csv(\"reddit_health_data_with_emotions.csv\", index=False)\n",
        "\n",
        "print(\"CSV file with selftext and emotion labels saved successfully.\")\n"
      ],
      "metadata": {
        "colab": {
          "base_uri": "https://localhost:8080/"
        },
        "id": "C7jPLMw_w6Y1",
        "outputId": "7e286454-1519-4884-b033-c65ed601292d"
      },
      "execution_count": 61,
      "outputs": [
        {
          "output_type": "stream",
          "name": "stderr",
          "text": [
            "[nltk_data] Downloading package vader_lexicon to /root/nltk_data...\n",
            "[nltk_data]   Package vader_lexicon is already up-to-date!\n"
          ]
        },
        {
          "output_type": "stream",
          "name": "stdout",
          "text": [
            "CSV file with selftext and emotion labels saved successfully.\n"
          ]
        }
      ]
    },
    {
      "cell_type": "markdown",
      "source": [
        "## **Summary Statistics**"
      ],
      "metadata": {
        "id": "XgktH93taJnQ"
      }
    },
    {
      "cell_type": "code",
      "source": [
        "# Display basic statistics for numerical columns (upvotes, comments count)\n",
        "print(pcos_df[['upvotes']].describe())\n",
        "print(thyroid_df[['upvotes']].describe())\n",
        "\n"
      ],
      "metadata": {
        "colab": {
          "base_uri": "https://localhost:8080/"
        },
        "id": "4oo8f2-iRTDI",
        "outputId": "5f9d6889-3556-4fd1-cc39-763f3856d7d7"
      },
      "execution_count": 62,
      "outputs": [
        {
          "output_type": "stream",
          "name": "stdout",
          "text": [
            "         upvotes\n",
            "count   2.000000\n",
            "mean   40.000000\n",
            "std    14.142136\n",
            "min    30.000000\n",
            "25%    35.000000\n",
            "50%    40.000000\n",
            "75%    45.000000\n",
            "max    50.000000\n",
            "          upvotes\n",
            "count    2.000000\n",
            "mean    90.000000\n",
            "std     14.142136\n",
            "min     80.000000\n",
            "25%     85.000000\n",
            "50%     90.000000\n",
            "75%     95.000000\n",
            "max    100.000000\n"
          ]
        }
      ]
    },
    {
      "cell_type": "code",
      "source": [
        "# Check if 'selftext' column is present\n",
        "print(pcos_df.columns)  # Ensure 'selftext' column exists in pcos_df\n",
        "print(thyroid_df.columns)  # Ensure 'selftext' column exists in thyroid_df\n",
        "\n",
        "# Make sure there are no null values in 'selftext' before applying emotion detection\n",
        "pcos_df['selftext'] = pcos_df['selftext'].fillna('')\n",
        "thyroid_df['selftext'] = thyroid_df['selftext'].fillna('')\n",
        "\n",
        "# Apply the emotion detection function to 'selftext'\n",
        "pcos_df['emotion'] = pcos_df['selftext'].apply(detect_emotion)\n",
        "thyroid_df['emotion'] = thyroid_df['selftext'].apply(detect_emotion)\n",
        "\n",
        "# Check if the 'emotion' column is added\n",
        "print(pcos_df[['selftext', 'emotion']].head())  # Check the first few rows of the DataFrame\n",
        "print(thyroid_df[['selftext', 'emotion']].head())\n"
      ],
      "metadata": {
        "colab": {
          "base_uri": "https://localhost:8080/"
        },
        "id": "CofJLVmATSox",
        "outputId": "778a829e-60ad-4a44-e7de-2c8afad7531c"
      },
      "execution_count": 14,
      "outputs": [
        {
          "output_type": "stream",
          "name": "stdout",
          "text": [
            "Index(['title', 'selftext', 'upvotes', 'comments', 'condition', 'source',\n",
            "       'content', 'sentiment'],\n",
            "      dtype='object')\n",
            "Index(['title', 'selftext', 'upvotes', 'comments', 'condition', 'source',\n",
            "       'content', 'sentiment'],\n",
            "      dtype='object')\n",
            "Original text length: 302 tokens\n",
            "Original text length: 26 tokens\n",
            "Original text length: 160 tokens\n",
            "Original text length: 236 tokens\n",
            "Original text length: 64 tokens\n",
            "Original text length: 112 tokens\n"
          ]
        },
        {
          "output_type": "stream",
          "name": "stderr",
          "text": [
            "Token indices sequence length is longer than the specified maximum sequence length for this model (643 > 512). Running this sequence through the model will result in indexing errors\n"
          ]
        },
        {
          "output_type": "stream",
          "name": "stdout",
          "text": [
            "Original text length: 643 tokens\n",
            "Original text length: 418 tokens\n",
            "Original text length: 618 tokens\n",
            "Original text length: 175 tokens\n",
            "Original text length: 643 tokens\n",
            "Original text length: 34 tokens\n",
            "Original text length: 635 tokens\n",
            "Original text length: 516 tokens\n",
            "Original text length: 324 tokens\n",
            "Original text length: 16 tokens\n",
            "Original text length: 212 tokens\n",
            "Original text length: 218 tokens\n",
            "Original text length: 270 tokens\n",
            "Original text length: 85 tokens\n",
            "Original text length: 50 tokens\n",
            "Original text length: 636 tokens\n",
            "Original text length: 43 tokens\n",
            "Original text length: 76 tokens\n",
            "Original text length: 93 tokens\n",
            "Original text length: 2015 tokens\n",
            "Original text length: 323 tokens\n",
            "Original text length: 222 tokens\n",
            "Original text length: 358 tokens\n",
            "Original text length: 175 tokens\n",
            "Original text length: 170 tokens\n",
            "Original text length: 217 tokens\n",
            "Original text length: 13 tokens\n",
            "Original text length: 60 tokens\n",
            "Original text length: 30 tokens\n",
            "Original text length: 190 tokens\n",
            "Original text length: 283 tokens\n",
            "Original text length: 122 tokens\n",
            "Original text length: 387 tokens\n",
            "Original text length: 69 tokens\n",
            "Original text length: 28 tokens\n",
            "Original text length: 44 tokens\n",
            "Original text length: 2 tokens\n",
            "Original text length: 97 tokens\n",
            "Original text length: 118 tokens\n",
            "Original text length: 126 tokens\n",
            "Original text length: 322 tokens\n",
            "Original text length: 284 tokens\n",
            "Original text length: 99 tokens\n",
            "Original text length: 187 tokens\n",
            "Original text length: 115 tokens\n",
            "Original text length: 30 tokens\n",
            "Original text length: 71 tokens\n",
            "Original text length: 310 tokens\n",
            "Original text length: 144 tokens\n",
            "Original text length: 78 tokens\n",
            "Original text length: 77 tokens\n",
            "Original text length: 2 tokens\n",
            "Original text length: 66 tokens\n",
            "Original text length: 32 tokens\n",
            "Original text length: 109 tokens\n",
            "Original text length: 232 tokens\n",
            "Original text length: 698 tokens\n",
            "Original text length: 31 tokens\n",
            "Original text length: 261 tokens\n",
            "Original text length: 79 tokens\n",
            "Original text length: 576 tokens\n",
            "Original text length: 61 tokens\n",
            "Original text length: 51 tokens\n",
            "Original text length: 301 tokens\n",
            "Original text length: 147 tokens\n",
            "Original text length: 371 tokens\n",
            "Original text length: 130 tokens\n",
            "Original text length: 2 tokens\n",
            "Original text length: 116 tokens\n",
            "Original text length: 760 tokens\n",
            "Original text length: 39 tokens\n",
            "Original text length: 46 tokens\n",
            "Original text length: 177 tokens\n",
            "Original text length: 14 tokens\n",
            "Original text length: 38 tokens\n",
            "Original text length: 212 tokens\n",
            "Original text length: 68 tokens\n",
            "Original text length: 16 tokens\n",
            "Original text length: 247 tokens\n",
            "Original text length: 827 tokens\n",
            "Original text length: 620 tokens\n",
            "Original text length: 78 tokens\n",
            "Original text length: 2 tokens\n",
            "Original text length: 224 tokens\n",
            "Original text length: 503 tokens\n",
            "Original text length: 638 tokens\n",
            "Original text length: 187 tokens\n",
            "Original text length: 52 tokens\n",
            "Original text length: 122 tokens\n",
            "Original text length: 361 tokens\n",
            "Original text length: 627 tokens\n",
            "Original text length: 14 tokens\n",
            "Original text length: 2 tokens\n",
            "Original text length: 125 tokens\n",
            "Original text length: 2 tokens\n",
            "Original text length: 2 tokens\n",
            "Original text length: 224 tokens\n",
            "Original text length: 245 tokens\n",
            "Original text length: 75 tokens\n",
            "Original text length: 120 tokens\n",
            "Original text length: 139 tokens\n",
            "Original text length: 206 tokens\n",
            "Original text length: 558 tokens\n",
            "Original text length: 55 tokens\n",
            "Original text length: 235 tokens\n",
            "Original text length: 2 tokens\n",
            "Original text length: 75 tokens\n",
            "Original text length: 2 tokens\n",
            "Original text length: 499 tokens\n",
            "Original text length: 306 tokens\n",
            "Original text length: 2 tokens\n",
            "Original text length: 55 tokens\n",
            "Original text length: 624 tokens\n",
            "Original text length: 78 tokens\n",
            "Original text length: 135 tokens\n",
            "Original text length: 99 tokens\n",
            "Original text length: 20 tokens\n",
            "Original text length: 118 tokens\n",
            "Original text length: 270 tokens\n",
            "Original text length: 2 tokens\n",
            "Original text length: 205 tokens\n",
            "Original text length: 80 tokens\n",
            "Original text length: 2 tokens\n",
            "Original text length: 2 tokens\n",
            "Original text length: 514 tokens\n",
            "Original text length: 51 tokens\n",
            "Original text length: 2349 tokens\n",
            "Original text length: 306 tokens\n",
            "Original text length: 101 tokens\n",
            "Original text length: 152 tokens\n",
            "Original text length: 261 tokens\n",
            "Original text length: 210 tokens\n",
            "Original text length: 170 tokens\n",
            "Original text length: 255 tokens\n",
            "Original text length: 317 tokens\n",
            "Original text length: 31 tokens\n",
            "Original text length: 178 tokens\n",
            "Original text length: 193 tokens\n",
            "Original text length: 156 tokens\n",
            "Original text length: 158 tokens\n",
            "Original text length: 244 tokens\n",
            "Original text length: 358 tokens\n",
            "Original text length: 146 tokens\n",
            "Original text length: 96 tokens\n",
            "Original text length: 204 tokens\n",
            "Original text length: 83 tokens\n",
            "Original text length: 166 tokens\n",
            "Original text length: 28 tokens\n",
            "Original text length: 155 tokens\n",
            "Original text length: 312 tokens\n",
            "Original text length: 144 tokens\n",
            "Original text length: 347 tokens\n",
            "Original text length: 311 tokens\n",
            "Original text length: 169 tokens\n",
            "Original text length: 205 tokens\n",
            "Original text length: 109 tokens\n",
            "Original text length: 606 tokens\n",
            "Original text length: 89 tokens\n",
            "Original text length: 753 tokens\n",
            "Original text length: 48 tokens\n",
            "Original text length: 160 tokens\n",
            "Original text length: 2 tokens\n",
            "Original text length: 103 tokens\n",
            "Original text length: 580 tokens\n",
            "Original text length: 115 tokens\n",
            "Original text length: 2 tokens\n",
            "Original text length: 70 tokens\n",
            "Original text length: 150 tokens\n",
            "Original text length: 535 tokens\n",
            "Original text length: 44 tokens\n",
            "Original text length: 59 tokens\n",
            "Original text length: 641 tokens\n",
            "Original text length: 348 tokens\n",
            "Original text length: 72 tokens\n",
            "Original text length: 132 tokens\n",
            "Original text length: 154 tokens\n",
            "Original text length: 330 tokens\n",
            "Original text length: 279 tokens\n",
            "Original text length: 68 tokens\n",
            "Original text length: 366 tokens\n",
            "Original text length: 198 tokens\n",
            "Original text length: 176 tokens\n",
            "Original text length: 172 tokens\n",
            "Original text length: 153 tokens\n",
            "Original text length: 134 tokens\n",
            "Original text length: 147 tokens\n",
            "Original text length: 138 tokens\n",
            "Original text length: 163 tokens\n",
            "Original text length: 159 tokens\n",
            "Original text length: 161 tokens\n",
            "Original text length: 113 tokens\n",
            "Original text length: 240 tokens\n",
            "Original text length: 81 tokens\n",
            "Original text length: 192 tokens\n",
            "Original text length: 127 tokens\n",
            "Original text length: 288 tokens\n",
            "Original text length: 2 tokens\n",
            "Original text length: 2 tokens\n",
            "                                            selftext  emotion\n",
            "0  My mom found a pcos clinic and recommended tha...  neutral\n",
            "1  My legs and hips never going up a size but can...  sadness\n",
            "2  I’m curious, what were some signs/symotoms of ...  disgust\n",
            "3  Other than the more masculine fat distribution...  neutral\n",
            "4  do you have any knowladge of advantages of pco...      joy\n",
            "                                            selftext  emotion\n",
            "0  I see a lot of posts for people having their t...     fear\n",
            "1  Is there a size where my doctor will say \"Yeah...  neutral\n",
            "2  What could i be doing wrong and what should i ...     fear\n",
            "3  I was recently a patient at Modern Thyroid Cli...  neutral\n",
            "4  I'm scheduled for a total thyroidectomy next m...     fear\n"
          ]
        }
      ]
    },
    {
      "cell_type": "code",
      "source": [
        "# Summary statistics for sentiment and emotion\n",
        "print(pcos_df['sentiment'].value_counts())  # Sentiment summary\n",
        "print(thyroid_df['sentiment'].value_counts())  # Sentiment summary\n",
        "\n",
        "# Check emotion distribution\n",
        "print(pcos_df['emotion'].value_counts())  # Emotion summary\n",
        "print(thyroid_df['emotion'].value_counts())  # Emotion summary\n"
      ],
      "metadata": {
        "colab": {
          "base_uri": "https://localhost:8080/"
        },
        "id": "YQxlLyyhT705",
        "outputId": "4b9e21ba-96c9-4906-8579-b386feb46d54"
      },
      "execution_count": 63,
      "outputs": [
        {
          "output_type": "stream",
          "name": "stdout",
          "text": [
            "sentiment\n",
            "neutral     1\n",
            "positive    1\n",
            "Name: count, dtype: int64\n",
            "sentiment\n",
            "positive    1\n",
            "negative    1\n",
            "Name: count, dtype: int64\n",
            "emotion\n",
            "sadness    1\n",
            "neutral    1\n",
            "Name: count, dtype: int64\n",
            "emotion\n",
            "neutral    2\n",
            "Name: count, dtype: int64\n"
          ]
        }
      ]
    },
    {
      "cell_type": "markdown",
      "source": [
        "## **Data Visualization**"
      ],
      "metadata": {
        "id": "QeYTD-hWZdWD"
      }
    },
    {
      "cell_type": "code",
      "source": [
        "import matplotlib.pyplot as plt\n",
        "import seaborn as sns\n",
        "\n",
        "# Plot histograms for upvotes and comments\n",
        "plt.figure(figsize=(10, 5))\n",
        "sns.histplot(pcos_df['upvotes'], kde=True, bins=30, color='blue', label=\"PCOS Upvotes\")\n",
        "sns.histplot(thyroid_df['upvotes'], kde=True, bins=30, color='green', label=\"Thyroid Upvotes\")\n",
        "plt.legend()\n",
        "plt.title(\"Distribution of Upvotes for PCOS and Thyroid Data\")\n",
        "plt.xlabel('Upvotes')\n",
        "plt.ylabel('Frequency')\n",
        "plt.show()\n",
        "\n",
        "# Plot sentiment distribution\n",
        "plt.figure(figsize=(8, 6))\n",
        "sns.countplot(x='sentiment', data=pcos_df, palette=\"Set2\")\n",
        "plt.title(\"Sentiment Distribution for PCOS Data\")\n",
        "plt.show()\n",
        "\n",
        "sns.countplot(x='sentiment', data=thyroid_df, palette=\"Set2\")\n",
        "plt.title(\"Sentiment Distribution for Thyroid Data\")\n",
        "plt.show()\n",
        "\n",
        "# Plot emotion distribution\n",
        "plt.figure(figsize=(8, 6))\n",
        "sns.countplot(x='emotion', data=pcos_df, palette=\"Set2\")\n",
        "plt.title(\"Emotion Distribution for PCOS Data\")\n",
        "plt.xticks(rotation=45)\n",
        "plt.show()\n",
        "\n",
        "sns.countplot(x='emotion', data=thyroid_df, palette=\"Set2\")\n",
        "plt.title(\"Emotion Distribution for Thyroid Data\")\n",
        "plt.xticks(rotation=45)\n",
        "plt.show()\n"
      ],
      "metadata": {
        "colab": {
          "base_uri": "https://localhost:8080/",
          "height": 1000
        },
        "id": "gylwUIPvUF7C",
        "outputId": "aae95fee-dc9f-44d3-c2f4-8e5a33356f3b"
      },
      "execution_count": 64,
      "outputs": [
        {
          "output_type": "display_data",
          "data": {
            "text/plain": [
              "<Figure size 1000x500 with 1 Axes>"
            ],
            "image/png": "[encoded data removed]"
          },
          "metadata": {}
        },
        {
          "output_type": "display_data",
          "data": {
            "text/plain": [
              "<Figure size 800x600 with 1 Axes>"
            ],
            "image/png": "[encoded data removed]"
          },
          "metadata": {}
        },
        {
          "output_type": "display_data",
          "data": {
            "text/plain": [
              "<Figure size 640x480 with 1 Axes>"
            ],
            "image/png": "[encoded data removed]"
          },
          "metadata": {}
        },
        {
          "output_type": "display_data",
          "data": {
            "text/plain": [
              "<Figure size 800x600 with 1 Axes>"
            ],
            "image/png": "[encoded data removed]"
          },
          "metadata": {}
        },
        {
          "output_type": "display_data",
          "data": {
            "text/plain": [
              "<Figure size 640x480 with 1 Axes>"
            ],
            "image/png": "[encoded data removed]"
          },
          "metadata": {}
        }
      ]
    },
    {
      "cell_type": "markdown",
      "source": [
        "### **Outliers Detection**"
      ],
      "metadata": {
        "id": "bnBdW8QDYWa8"
      }
    },
    {
      "cell_type": "code",
      "source": [
        "# Using boxplots to detect outliers\n",
        "plt.figure(figsize=(8, 6))\n",
        "sns.boxplot(x=pcos_df['upvotes'], color='blue')\n",
        "plt.title(\"Boxplot for Upvotes (PCOS)\")\n",
        "plt.show()\n",
        "\n",
        "plt.figure(figsize=(8, 6))\n",
        "sns.boxplot(x=thyroid_df['upvotes'], color='green')\n",
        "plt.title(\"Boxplot for Upvotes (Thyroid)\")\n",
        "plt.show()"
      ],
      "metadata": {
        "colab": {
          "base_uri": "https://localhost:8080/",
          "height": 1000
        },
        "id": "LFXwllxUW50j",
        "outputId": "e1c95a8f-3914-4349-d829-4def05986512"
      },
      "execution_count": 65,
      "outputs": [
        {
          "output_type": "display_data",
          "data": {
            "text/plain": [
              "<Figure size 800x600 with 1 Axes>"
            ],
            "image/png": "[encoded data removed]"
          },
          "metadata": {}
        },
        {
          "output_type": "display_data",
          "data": {
            "text/plain": [
              "<Figure size 800x600 with 1 Axes>"
            ],
            "image/png": "[encoded data removed]"
          },
          "metadata": {}
        }
      ]
    },
    {
      "cell_type": "markdown",
      "source": [
        "### **Text Similarity Analysis**"
      ],
      "metadata": {
        "id": "xwPqLPdoX-3s"
      }
    },
    {
      "cell_type": "code",
      "source": [
        "from sklearn.feature_extraction.text import TfidfVectorizer\n",
        "from sklearn.metrics.pairwise import cosine_similarity\n",
        "\n",
        "# Vectorize the text data for PCOS dataset\n",
        "vectorizer = TfidfVectorizer(stop_words='english')\n",
        "pcos_vectors = vectorizer.fit_transform(pcos_df['selftext'])\n",
        "\n",
        "# Vectorize the text data for Thyroid dataset using the same vectorizer\n",
        "thyroid_vectors = vectorizer.transform(thyroid_df['selftext'])\n",
        "\n",
        "# Check the shape of the pcos_vectors matrix\n",
        "print(pcos_vectors.shape)\n",
        "\n",
        "# Compute cosine similarity between PCOS and Thyroid vectors\n",
        "cosine_sim = cosine_similarity(pcos_vectors, thyroid_vectors)\n",
        "\n",
        "# Print the cosine similarity matrix\n",
        "print(cosine_sim)\n",
        "\n"
      ],
      "metadata": {
        "colab": {
          "base_uri": "https://localhost:8080/"
        },
        "id": "MwoPDOtQW_Uh",
        "outputId": "fae3ad49-e4ee-40e1-d75c-cb01dde4e224"
      },
      "execution_count": 66,
      "outputs": [
        {
          "output_type": "stream",
          "name": "stdout",
          "text": [
            "(2, 10)\n",
            "[[0.         0.        ]\n",
            " [0.66620463 0.        ]]\n"
          ]
        }
      ]
    },
    {
      "cell_type": "markdown",
      "source": [
        "##**Matching Emotions to Remedies**"
      ],
      "metadata": {
        "id": "uO341QHvCXe9"
      }
    },
    {
      "cell_type": "code",
      "source": [
        "import pandas as pd\n",
        "import nltk\n",
        "from nltk.corpus import stopwords\n",
        "from nltk.tokenize import word_tokenize\n",
        "from transformers import pipeline\n",
        "import matplotlib.pyplot as plt\n",
        "from wordcloud import WordCloud\n",
        "\n",
        "# Ensure required downloads\n",
        "nltk.download('punkt')\n",
        "nltk.download('punkt_tab')\n",
        "nltk.download('stopwords')\n",
        "\n",
        "# Load scraped data (replace with actual data files)\n",
        "pcos_df = pd.read_json(\"pcos_data_with_sentiment.json\")\n",
        "thyroid_df = pd.read_json(\"thyroid_data_with_sentiment.json\")\n",
        "pcos_scraped_df = pd.read_json(\"cure_pcos_data.json\")\n",
        "thyroid_scraped_df = pd.read_json(\"cure_thyroid_data.json\")\n",
        "\n",
        "# Combine remedies from scraped data\n",
        "pcos_remedies = pcos_scraped_df[['content']].copy()\n",
        "pcos_remedies['condition'] = \"PCOS\"\n",
        "thyroid_remedies = thyroid_scraped_df[['content']].copy()\n",
        "thyroid_remedies['condition'] = \"Thyroid\"\n",
        "all_remedies_df = pd.concat([pcos_remedies, thyroid_remedies], ignore_index=True)\n",
        "\n",
        "# Extract keywords from remedies\n",
        "stop_words = set(stopwords.words('english'))\n",
        "\n",
        "def extract_keywords(text):\n",
        "    if not isinstance(text, str):  # Handle NoneType or non-string values\n",
        "        text = \"\"\n",
        "    try:\n",
        "        words = word_tokenize(text.lower())\n",
        "        keywords = [word for word in words if word.isalnum() and word not in stop_words]\n",
        "        return \" \".join(keywords)\n",
        "    except LookupError:\n",
        "        nltk.download('punkt')  # Ensure punkt is downloaded if missing\n",
        "        words = word_tokenize(text.lower())\n",
        "        keywords = [word for word in words if word.isalnum() and word not in stop_words]\n",
        "        return \" \".join(keywords)\n",
        "\n",
        "all_remedies_df['keywords'] = all_remedies_df['content'].apply(extract_keywords)\n",
        "\n",
        "# Load pre-trained emotion detection model\n",
        "emotion_analyzer = pipeline(\"text-classification\", model=\"j-hartmann/emotion-english-distilroberta-base\", truncation=True, max_length=512)\n",
        "\n",
        "def detect_emotion(text):\n",
        "    if not isinstance(text, str):\n",
        "        text = \"\"\n",
        "    result = emotion_analyzer(text)\n",
        "    if isinstance(result, list) and len(result) > 0:\n",
        "        return result[0]['label']\n",
        "    return \"Unknown\"\n",
        "\n",
        "# Apply emotion detection to PCOS and Thyroid data\n",
        "pcos_df['emotion'] = pcos_df['selftext'].apply(detect_emotion)\n",
        "thyroid_df['emotion'] = thyroid_df['selftext'].apply(detect_emotion)\n",
        "\n",
        "# Match emotions to remedies\n",
        "def enhanced_match_emotions_to_remedies(row, remedies_df):\n",
        "    # Handle potential None values in 'selftext'\n",
        "    condition = \"PCOS\" if isinstance(row['selftext'], str) and \"PCOS\" in row['selftext'] else \"Thyroid\"\n",
        "    relevant_remedies = remedies_df[remedies_df['condition'] == condition]\n",
        "    for _, remedy_row in relevant_remedies.iterrows():\n",
        "        if row['emotion'] in remedy_row['keywords']:\n",
        "            return remedy_row['content'][:300]  # Return first 300 chars\n",
        "    return \"General health advice: Consult a professional.\"\n",
        "\n",
        "pcos_df['remedy'] = pcos_df.apply(enhanced_match_emotions_to_remedies, axis=1, remedies_df=all_remedies_df)\n",
        "thyroid_df['remedy'] = thyroid_df.apply(enhanced_match_emotions_to_remedies, axis=1, remedies_df=all_remedies_df)\n",
        "\n",
        "# Save updated datasets\n",
        "pcos_df.to_json(\"enhanced_pcos_with_remedies.json\", orient=\"records\")\n",
        "thyroid_df.to_json(\"enhanced_thyroid_with_remedies.json\", orient=\"records\")\n",
        "\n",
        "# Visualize Emotion Distribution\n",
        "plt.figure(figsize=(10, 6))\n",
        "pcos_emotion_counts = pcos_df['emotion'].value_counts()\n",
        "pcos_emotion_counts.plot(kind='bar', title=\"PCOS Emotion Distribution\")\n",
        "plt.xlabel(\"Emotion\")\n",
        "plt.ylabel(\"Count\")\n",
        "plt.show()\n",
        "\n",
        "# Generate Word Cloud for PCOS Remedies\n",
        "pcos_remedies_text = \" \".join(pcos_df['remedy'])\n",
        "wordcloud = WordCloud(width=800, height=400).generate(pcos_remedies_text)\n",
        "\n",
        "plt.figure(figsize=(10, 6))\n",
        "plt.imshow(wordcloud, interpolation='bilinear')\n",
        "plt.axis(\"off\")\n",
        "plt.title(\"Word Cloud of Remedies for PCOS\")\n",
        "plt.show()\n",
        "\n",
        "# Display final processed data\n",
        "print(\"PCOS Data:\")\n",
        "print(pcos_df[['selftext', 'emotion', 'remedy']].head())\n",
        "print(\"Thyroid Data:\")\n",
        "print(thyroid_df[['selftext', 'emotion', 'remedy']].head())\n"
      ],
      "metadata": {
        "colab": {
          "base_uri": "https://localhost:8080/",
          "height": 1000
        },
        "id": "HPe41Sg5CJjz",
        "outputId": "67855c66-128f-4649-a28a-61f59e73c033"
      },
      "execution_count": 67,
      "outputs": [
        {
          "output_type": "stream",
          "name": "stderr",
          "text": [
            "[nltk_data] Downloading package punkt to /root/nltk_data...\n",
            "[nltk_data]   Package punkt is already up-to-date!\n",
            "[nltk_data] Downloading package punkt_tab to /root/nltk_data...\n",
            "[nltk_data]   Package punkt_tab is already up-to-date!\n",
            "[nltk_data] Downloading package stopwords to /root/nltk_data...\n",
            "[nltk_data]   Package stopwords is already up-to-date!\n"
          ]
        },
        {
          "output_type": "display_data",
          "data": {
            "text/plain": [
              "<Figure size 1000x600 with 1 Axes>"
            ],
            "image/png": "[encoded data removed]"
          },
          "metadata": {}
        },
        {
          "output_type": "display_data",
          "data": {
            "text/plain": [
              "<Figure size 1000x600 with 1 Axes>"
            ],
            "image/png": "[encoded data removed]"
          },
          "metadata": {}
        },
        {
          "output_type": "stream",
          "name": "stdout",
          "text": [
            "PCOS Data:\n",
            "                                            selftext  emotion  \\\n",
            "0  My mom found a pcos clinic and recommended tha...  neutral   \n",
            "1  My legs and hips never going up a size but can...  sadness   \n",
            "2  I’m curious, what were some signs/symotoms of ...  disgust   \n",
            "3  Other than the more masculine fat distribution...  neutral   \n",
            "4  do you have any knowladge of advantages of pco...      joy   \n",
            "\n",
            "                                           remedy  \n",
            "0  General health advice: Consult a professional.  \n",
            "1  General health advice: Consult a professional.  \n",
            "2  General health advice: Consult a professional.  \n",
            "3  General health advice: Consult a professional.  \n",
            "4  General health advice: Consult a professional.  \n",
            "Thyroid Data:\n",
            "                                            selftext  emotion  \\\n",
            "0  I see a lot of posts for people having their t...     fear   \n",
            "1  Is there a size where my doctor will say \"Yeah...  neutral   \n",
            "2  What could i be doing wrong and what should i ...     fear   \n",
            "3  I was recently a patient at Modern Thyroid Cli...  neutral   \n",
            "4  I'm scheduled for a total thyroidectomy next m...     fear   \n",
            "\n",
            "                                           remedy  \n",
            "0  General health advice: Consult a professional.  \n",
            "1  General health advice: Consult a professional.  \n",
            "2  General health advice: Consult a professional.  \n",
            "3  General health advice: Consult a professional.  \n",
            "4  General health advice: Consult a professional.  \n"
          ]
        }
      ]
    },
    {
      "cell_type": "code",
      "source": [
        "import pandas as pd\n",
        "import re\n",
        "\n",
        "# Sample data: your existing DataFrame with emotions and scraped data\n",
        "data = {\n",
        "    'selftext': [\n",
        "        \"My mom found a pcos clinic and recommended that I start taking medication.\",\n",
        "        \"My legs and hips never going up a size but can never seem to lose weight.\",\n",
        "        \"I’m curious, what were some signs/symptoms of thyroid issues you’ve experienced?\",\n",
        "        \"Other than the more masculine fat distribution, I have no other noticeable signs of PCOS.\",\n",
        "        \"Do you have any knowledge of advantages of PCOS medication?\"\n",
        "    ],\n",
        "    'emotion': ['neutral', 'sadness', 'disgust', 'neutral', 'joy'],\n",
        "    'scraped_data': [\n",
        "        \"PCOS treatment includes medication and lifestyle changes. Diet and exercise are essential for managing symptoms.\",\n",
        "        \"Thyroid issues can be managed with medication and regular monitoring of thyroid levels. Stress reduction techniques like yoga are helpful.\",\n",
        "        \"For thyroid health, medication is essential, but some people find relief through dietary changes.\",\n",
        "        \"There are many therapies for PCOS, including medications and lifestyle changes such as diet and exercise.\",\n",
        "        \"PCOS medication can help regulate hormones, but you must also consider lifestyle changes such as weight management.\"\n",
        "    ]\n",
        "}\n",
        "\n",
        "# Create DataFrame\n",
        "df = pd.DataFrame(data)\n",
        "\n",
        "# Function to extract remedies from scraped data based on emotion\n",
        "def extract_remedy_from_scraped_data(emotion, scraped_text):\n",
        "    # Predefined remedies based on emotion\n",
        "    emotion_remedies = {\n",
        "        'neutral': \"Maintain a healthy diet and exercise regularly.\",\n",
        "        'sadness': \"Consider talking to a therapist or counselor. Exercise and meditation can help improve mood.\",\n",
        "        'disgust': \"Practice relaxation techniques like deep breathing and try mindfulness exercises.\",\n",
        "        'fear': \"Talk to a medical professional about your concerns. Consider stress-relief practices like yoga or breathing exercises.\",\n",
        "        'joy': \"Continue maintaining a healthy lifestyle and share your experiences with others to inspire them.\",\n",
        "    }\n",
        "\n",
        "    # Attempt to extract remedy from scraped data if present\n",
        "    # We'll search for phrases that likely represent remedies or solutions\n",
        "    remedy_keywords = [\"treatment\", \"remedy\", \"solution\", \"help\", \"advise\", \"suggest\", \"manage\", \"cure\", \"improve\", \"relieve\"]\n",
        "    remedy_found = None\n",
        "\n",
        "    for keyword in remedy_keywords:\n",
        "        # Check if the scraped data contains any of the remedy-related keywords\n",
        "        if keyword in scraped_text.lower():\n",
        "            remedy_found = scraped_text\n",
        "            break  # Exit loop once we find a relevant remedy\n",
        "\n",
        "    # If no specific remedy is found, return the predefined remedy based on emotion\n",
        "    if remedy_found:\n",
        "        return remedy_found\n",
        "    else:\n",
        "        return emotion_remedies.get(emotion, \"No remedy available\")\n",
        "\n",
        "# Apply the remedy extraction function to the DataFrame\n",
        "df['remedy'] = df.apply(lambda row: extract_remedy_from_scraped_data(row['emotion'], row['scraped_data']), axis=1)\n",
        "\n",
        "# Select and display only the relevant columns: selftext, emotion, and remedy\n",
        "df_result = df[['selftext', 'emotion', 'remedy']]\n",
        "\n",
        "# Output the final result\n",
        "print(df_result)"
      ],
      "metadata": {
        "colab": {
          "base_uri": "https://localhost:8080/"
        },
        "id": "UgTLHpaDqCNu",
        "outputId": "453dbad9-09d8-446a-aff5-e294b7d3597b"
      },
      "execution_count": null,
      "outputs": [
        {
          "output_type": "stream",
          "name": "stdout",
          "text": [
            "                                            selftext  emotion  \\\n",
            "0  My mom found a pcos clinic and recommended tha...  neutral   \n",
            "1  My legs and hips never going up a size but can...  sadness   \n",
            "2  I’m curious, what were some signs/symptoms of ...  disgust   \n",
            "3  Other than the more masculine fat distribution...  neutral   \n",
            "4  Do you have any knowledge of advantages of PCO...      joy   \n",
            "\n",
            "                                              remedy  \n",
            "0  PCOS treatment includes medication and lifesty...  \n",
            "1  Thyroid issues can be managed with medication ...  \n",
            "2  Practice relaxation techniques like deep breat...  \n",
            "3    Maintain a healthy diet and exercise regularly.  \n",
            "4  PCOS medication can help regulate hormones, bu...  \n"
          ]
        }
      ]
    },
    {
      "cell_type": "markdown",
      "source": [
        "**Explanation:**\n",
        "\n",
        "1.   Emotion-based Remedies: We first have predefined remedies based on emotions like neutral, sadness, fear, etc.\n",
        "\n",
        "2.   Scraped Data Check: The extract_remedy_from_scraped_data function looks for keywords such as treatment, remedy, solution, etc., within the scraped text. If these keywords are found, it extracts the entire section of the scraped data as the remedy.\n",
        "\n",
        "1.   Final Remedy Assignment: For each row, if no remedy is directly found in the scraped data, the predefined remedy (based on the detected emotion) is used as a fallback.\n",
        "\n",
        "**Summary**:\n",
        "\n",
        "This solution attempts to match remedies from scraped data based on keywords associated with treatment advice. If a remedy is found in the scraped data, it is used; otherwise, a default remedy based on the detected emotion is applied."
      ],
      "metadata": {
        "id": "L2jdFfkStjcT"
      }
    },
    {
      "cell_type": "markdown",
      "source": [
        "#**Machine Learning Accuracy Assesment**"
      ],
      "metadata": {
        "id": "7B9Aufy2tSjB"
      }
    },
    {
      "cell_type": "code",
      "source": [
        "from sklearn.model_selection import train_test_split\n",
        "from sklearn.feature_extraction.text import TfidfVectorizer\n",
        "from sklearn.linear_model import LogisticRegression\n",
        "from sklearn.ensemble import GradientBoostingClassifier\n",
        "from sklearn.metrics import accuracy_score, classification_report\n",
        "from transformers import pipeline\n",
        "# Ensure necessary downloads\n",
        "nltk.download('wordnet')\n",
        "nltk.download('stopwords')\n",
        "\n",
        "# Load scraped data (replace with actual data files)\n",
        "pcos_df = pd.read_json(\"pcos_data_with_sentiment.json\")\n",
        "thyroid_df = pd.read_json(\"thyroid_data_with_sentiment.json\")\n",
        "\n",
        "# Initialize emotion detection model (make sure you've loaded the model before)\n",
        "emotion_analyzer = pipeline(\"text-classification\", model=\"j-hartmann/emotion-english-distilroberta-base\", truncation=True, max_length=512)\n",
        "\n",
        "# Function to detect emotions in text\n",
        "def detect_emotion(text):\n",
        "    if not isinstance(text, str):\n",
        "        text = \"\"  # Handle non-string values\n",
        "\n",
        "    # Run emotion detection with truncation (maximum length 512 tokens)\n",
        "    result = emotion_analyzer(text)\n",
        "\n",
        "    # Access the emotion label\n",
        "    if isinstance(result, list) and len(result) > 0:\n",
        "        emotion = result[0]['label']  # Access the emotion label\n",
        "    else:\n",
        "        emotion = \"Unknown\"  # Default case in case of any error\n",
        "\n",
        "    return emotion\n",
        "\n",
        "# Add the 'emotion' column to each DataFrame before combining\n",
        "pcos_df['emotion'] = pcos_df['selftext'].apply(detect_emotion)  # Applying emotion detection\n",
        "thyroid_df['emotion'] = thyroid_df['selftext'].apply(detect_emotion) # Applying emotion detection\n",
        "\n",
        "# Combine PCOS and Thyroid datasets for ML\n",
        "combined_df = pd.concat([pcos_df, thyroid_df], ignore_index=True)\n",
        "\n",
        "# Text preprocessing\n",
        "def preprocess_text(text):\n",
        "    lemmatizer = WordNetLemmatizer()\n",
        "    stop_words = set(stopwords.words('english'))\n",
        "\n",
        "    # Handle non-string values by converting to empty string\n",
        "    if not isinstance(text, str):\n",
        "        text = \"\"\n",
        "\n",
        "    text = re.sub(r'\\W', ' ', text)  # Remove special characters\n",
        "    text = text.lower()  # Convert to lowercase\n",
        "    text = ' '.join([lemmatizer.lemmatize(word) for word in text.split() if word not in stop_words])\n",
        "    return text\n",
        "\n",
        "combined_df['selftext'] = combined_df['selftext'].apply(preprocess_text)\n",
        "\n",
        "# Text vectorization\n",
        "vectorizer = TfidfVectorizer(stop_words='english', max_features=10000, ngram_range=(1, 2))\n",
        "X = vectorizer.fit_transform(combined_df['selftext'])\n",
        "y = combined_df['emotion']\n",
        "\n",
        "# Split data into training and testing sets\n",
        "X_train, X_test, y_train, y_test = train_test_split(X, y, test_size=0.2, random_state=42)\n",
        "\n",
        "# Logistic Regression\n",
        "lr_model = LogisticRegression(max_iter=1000, random_state=42)\n",
        "lr_model.fit(X_train, y_train)\n",
        "y_pred_lr = lr_model.predict(X_test)\n",
        "print(\"Logistic Regression Accuracy:\", accuracy_score(y_test, y_pred_lr))\n",
        "print(\"Logistic Regression Classification Report:\\n\", classification_report(y_test, y_pred_lr))\n",
        "\n",
        "# Gradient Boosting Classifier\n",
        "gb_model = GradientBoostingClassifier(n_estimators=100, random_state=42)\n",
        "gb_model.fit(X_train, y_train)"
      ],
      "metadata": {
        "colab": {
          "base_uri": "https://localhost:8080/",
          "height": 534
        },
        "id": "5ZAvXZtSVoT6",
        "outputId": "a7bb5798-e59a-490d-80f4-f2626f3b8bc3"
      },
      "execution_count": 68,
      "outputs": [
        {
          "output_type": "stream",
          "name": "stderr",
          "text": [
            "[nltk_data] Downloading package wordnet to /root/nltk_data...\n",
            "[nltk_data]   Package wordnet is already up-to-date!\n",
            "[nltk_data] Downloading package stopwords to /root/nltk_data...\n",
            "[nltk_data]   Package stopwords is already up-to-date!\n"
          ]
        },
        {
          "output_type": "stream",
          "name": "stdout",
          "text": [
            "Logistic Regression Accuracy: 0.36585365853658536\n",
            "Logistic Regression Classification Report:\n",
            "               precision    recall  f1-score   support\n",
            "\n",
            "       anger       0.00      0.00      0.00         1\n",
            "        fear       0.40      0.40      0.40        15\n",
            "         joy       0.00      0.00      0.00         1\n",
            "     neutral       0.35      0.64      0.45        14\n",
            "     sadness       0.00      0.00      0.00         7\n",
            "    surprise       0.00      0.00      0.00         3\n",
            "\n",
            "    accuracy                           0.37        41\n",
            "   macro avg       0.12      0.17      0.14        41\n",
            "weighted avg       0.26      0.37      0.30        41\n",
            "\n"
          ]
        },
        {
          "output_type": "stream",
          "name": "stderr",
          "text": [
            "/usr/local/lib/python3.10/dist-packages/sklearn/metrics/_classification.py:1531: UndefinedMetricWarning: Precision is ill-defined and being set to 0.0 in labels with no predicted samples. Use `zero_division` parameter to control this behavior.\n",
            "  _warn_prf(average, modifier, f\"{metric.capitalize()} is\", len(result))\n",
            "/usr/local/lib/python3.10/dist-packages/sklearn/metrics/_classification.py:1531: UndefinedMetricWarning: Precision is ill-defined and being set to 0.0 in labels with no predicted samples. Use `zero_division` parameter to control this behavior.\n",
            "  _warn_prf(average, modifier, f\"{metric.capitalize()} is\", len(result))\n",
            "/usr/local/lib/python3.10/dist-packages/sklearn/metrics/_classification.py:1531: UndefinedMetricWarning: Precision is ill-defined and being set to 0.0 in labels with no predicted samples. Use `zero_division` parameter to control this behavior.\n",
            "  _warn_prf(average, modifier, f\"{metric.capitalize()} is\", len(result))\n"
          ]
        },
        {
          "output_type": "execute_result",
          "data": {
            "text/plain": [
              "GradientBoostingClassifier(random_state=42)"
            ],
            "text/html": [
              "<style>#sk-container-id-2 {\n",
              "  /* Definition of color scheme common for light and dark mode */\n",
              "  --sklearn-color-text: black;\n",
              "  --sklearn-color-line: gray;\n",
              "  /* Definition of color scheme for unfitted estimators */\n",
              "  --sklearn-color-unfitted-level-0: #fff5e6;\n",
              "  --sklearn-color-unfitted-level-1: #f6e4d2;\n",
              "  --sklearn-color-unfitted-level-2: #ffe0b3;\n",
              "  --sklearn-color-unfitted-level-3: chocolate;\n",
              "  /* Definition of color scheme for fitted estimators */\n",
              "  --sklearn-color-fitted-level-0: #f0f8ff;\n",
              "  --sklearn-color-fitted-level-1: #d4ebff;\n",
              "  --sklearn-color-fitted-level-2: #b3dbfd;\n",
              "  --sklearn-color-fitted-level-3: cornflowerblue;\n",
              "\n",
              "  /* Specific color for light theme */\n",
              "  --sklearn-color-text-on-default-background: var(--sg-text-color, var(--theme-code-foreground, var(--jp-content-font-color1, black)));\n",
              "  --sklearn-color-background: var(--sg-background-color, var(--theme-background, var(--jp-layout-color0, white)));\n",
              "  --sklearn-color-border-box: var(--sg-text-color, var(--theme-code-foreground, var(--jp-content-font-color1, black)));\n",
              "  --sklearn-color-icon: #696969;\n",
              "\n",
              "  @media (prefers-color-scheme: dark) {\n",
              "    /* Redefinition of color scheme for dark theme */\n",
              "    --sklearn-color-text-on-default-background: var(--sg-text-color, var(--theme-code-foreground, var(--jp-content-font-color1, white)));\n",
              "    --sklearn-color-background: var(--sg-background-color, var(--theme-background, var(--jp-layout-color0, #111)));\n",
              "    --sklearn-color-border-box: var(--sg-text-color, var(--theme-code-foreground, var(--jp-content-font-color1, white)));\n",
              "    --sklearn-color-icon: #878787;\n",
              "  }\n",
              "}\n",
              "\n",
              "#sk-container-id-2 {\n",
              "  color: var(--sklearn-color-text);\n",
              "}\n",
              "\n",
              "#sk-container-id-2 pre {\n",
              "  padding: 0;\n",
              "}\n",
              "\n",
              "#sk-container-id-2 input.sk-hidden--visually {\n",
              "  border: 0;\n",
              "  clip: rect(1px 1px 1px 1px);\n",
              "  clip: rect(1px, 1px, 1px, 1px);\n",
              "  height: 1px;\n",
              "  margin: -1px;\n",
              "  overflow: hidden;\n",
              "  padding: 0;\n",
              "  position: absolute;\n",
              "  width: 1px;\n",
              "}\n",
              "\n",
              "#sk-container-id-2 div.sk-dashed-wrapped {\n",
              "  border: 1px dashed var(--sklearn-color-line);\n",
              "  margin: 0 0.4em 0.5em 0.4em;\n",
              "  box-sizing: border-box;\n",
              "  padding-bottom: 0.4em;\n",
              "  background-color: var(--sklearn-color-background);\n",
              "}\n",
              "\n",
              "#sk-container-id-2 div.sk-container {\n",
              "  /* jupyter's `normalize.less` sets `[hidden] { display: none; }`\n",
              "     but bootstrap.min.css set `[hidden] { display: none !important; }`\n",
              "     so we also need the `!important` here to be able to override the\n",
              "     default hidden behavior on the sphinx rendered scikit-learn.org.\n",
              "     See: https://github.com/scikit-learn/scikit-learn/issues/21755 */\n",
              "  display: inline-block !important;\n",
              "  position: relative;\n",
              "}\n",
              "\n",
              "#sk-container-id-2 div.sk-text-repr-fallback {\n",
              "  display: none;\n",
              "}\n",
              "\n",
              "div.sk-parallel-item,\n",
              "div.sk-serial,\n",
              "div.sk-item {\n",
              "  /* draw centered vertical line to link estimators */\n",
              "  background-image: linear-gradient(var(--sklearn-color-text-on-default-background), var(--sklearn-color-text-on-default-background));\n",
              "  background-size: 2px 100%;\n",
              "  background-repeat: no-repeat;\n",
              "  background-position: center center;\n",
              "}\n",
              "\n",
              "/* Parallel-specific style estimator block */\n",
              "\n",
              "#sk-container-id-2 div.sk-parallel-item::after {\n",
              "  content: \"\";\n",
              "  width: 100%;\n",
              "  border-bottom: 2px solid var(--sklearn-color-text-on-default-background);\n",
              "  flex-grow: 1;\n",
              "}\n",
              "\n",
              "#sk-container-id-2 div.sk-parallel {\n",
              "  display: flex;\n",
              "  align-items: stretch;\n",
              "  justify-content: center;\n",
              "  background-color: var(--sklearn-color-background);\n",
              "  position: relative;\n",
              "}\n",
              "\n",
              "#sk-container-id-2 div.sk-parallel-item {\n",
              "  display: flex;\n",
              "  flex-direction: column;\n",
              "}\n",
              "\n",
              "#sk-container-id-2 div.sk-parallel-item:first-child::after {\n",
              "  align-self: flex-end;\n",
              "  width: 50%;\n",
              "}\n",
              "\n",
              "#sk-container-id-2 div.sk-parallel-item:last-child::after {\n",
              "  align-self: flex-start;\n",
              "  width: 50%;\n",
              "}\n",
              "\n",
              "#sk-container-id-2 div.sk-parallel-item:only-child::after {\n",
              "  width: 0;\n",
              "}\n",
              "\n",
              "/* Serial-specific style estimator block */\n",
              "\n",
              "#sk-container-id-2 div.sk-serial {\n",
              "  display: flex;\n",
              "  flex-direction: column;\n",
              "  align-items: center;\n",
              "  background-color: var(--sklearn-color-background);\n",
              "  padding-right: 1em;\n",
              "  padding-left: 1em;\n",
              "}\n",
              "\n",
              "\n",
              "/* Toggleable style: style used for estimator/Pipeline/ColumnTransformer box that is\n",
              "clickable and can be expanded/collapsed.\n",
              "- Pipeline and ColumnTransformer use this feature and define the default style\n",
              "- Estimators will overwrite some part of the style using the `sk-estimator` class\n",
              "*/\n",
              "\n",
              "/* Pipeline and ColumnTransformer style (default) */\n",
              "\n",
              "#sk-container-id-2 div.sk-toggleable {\n",
              "  /* Default theme specific background. It is overwritten whether we have a\n",
              "  specific estimator or a Pipeline/ColumnTransformer */\n",
              "  background-color: var(--sklearn-color-background);\n",
              "}\n",
              "\n",
              "/* Toggleable label */\n",
              "#sk-container-id-2 label.sk-toggleable__label {\n",
              "  cursor: pointer;\n",
              "  display: block;\n",
              "  width: 100%;\n",
              "  margin-bottom: 0;\n",
              "  padding: 0.5em;\n",
              "  box-sizing: border-box;\n",
              "  text-align: center;\n",
              "}\n",
              "\n",
              "#sk-container-id-2 label.sk-toggleable__label-arrow:before {\n",
              "  /* Arrow on the left of the label */\n",
              "  content: \"▸\";\n",
              "  float: left;\n",
              "  margin-right: 0.25em;\n",
              "  color: var(--sklearn-color-icon);\n",
              "}\n",
              "\n",
              "#sk-container-id-2 label.sk-toggleable__label-arrow:hover:before {\n",
              "  color: var(--sklearn-color-text);\n",
              "}\n",
              "\n",
              "/* Toggleable content - dropdown */\n",
              "\n",
              "#sk-container-id-2 div.sk-toggleable__content {\n",
              "  max-height: 0;\n",
              "  max-width: 0;\n",
              "  overflow: hidden;\n",
              "  text-align: left;\n",
              "  /* unfitted */\n",
              "  background-color: var(--sklearn-color-unfitted-level-0);\n",
              "}\n",
              "\n",
              "#sk-container-id-2 div.sk-toggleable__content.fitted {\n",
              "  /* fitted */\n",
              "  background-color: var(--sklearn-color-fitted-level-0);\n",
              "}\n",
              "\n",
              "#sk-container-id-2 div.sk-toggleable__content pre {\n",
              "  margin: 0.2em;\n",
              "  border-radius: 0.25em;\n",
              "  color: var(--sklearn-color-text);\n",
              "  /* unfitted */\n",
              "  background-color: var(--sklearn-color-unfitted-level-0);\n",
              "}\n",
              "\n",
              "#sk-container-id-2 div.sk-toggleable__content.fitted pre {\n",
              "  /* unfitted */\n",
              "  background-color: var(--sklearn-color-fitted-level-0);\n",
              "}\n",
              "\n",
              "#sk-container-id-2 input.sk-toggleable__control:checked~div.sk-toggleable__content {\n",
              "  /* Expand drop-down */\n",
              "  max-height: 200px;\n",
              "  max-width: 100%;\n",
              "  overflow: auto;\n",
              "}\n",
              "\n",
              "#sk-container-id-2 input.sk-toggleable__control:checked~label.sk-toggleable__label-arrow:before {\n",
              "  content: \"▾\";\n",
              "}\n",
              "\n",
              "/* Pipeline/ColumnTransformer-specific style */\n",
              "\n",
              "#sk-container-id-2 div.sk-label input.sk-toggleable__control:checked~label.sk-toggleable__label {\n",
              "  color: var(--sklearn-color-text);\n",
              "  background-color: var(--sklearn-color-unfitted-level-2);\n",
              "}\n",
              "\n",
              "#sk-container-id-2 div.sk-label.fitted input.sk-toggleable__control:checked~label.sk-toggleable__label {\n",
              "  background-color: var(--sklearn-color-fitted-level-2);\n",
              "}\n",
              "\n",
              "/* Estimator-specific style */\n",
              "\n",
              "/* Colorize estimator box */\n",
              "#sk-container-id-2 div.sk-estimator input.sk-toggleable__control:checked~label.sk-toggleable__label {\n",
              "  /* unfitted */\n",
              "  background-color: var(--sklearn-color-unfitted-level-2);\n",
              "}\n",
              "\n",
              "#sk-container-id-2 div.sk-estimator.fitted input.sk-toggleable__control:checked~label.sk-toggleable__label {\n",
              "  /* fitted */\n",
              "  background-color: var(--sklearn-color-fitted-level-2);\n",
              "}\n",
              "\n",
              "#sk-container-id-2 div.sk-label label.sk-toggleable__label,\n",
              "#sk-container-id-2 div.sk-label label {\n",
              "  /* The background is the default theme color */\n",
              "  color: var(--sklearn-color-text-on-default-background);\n",
              "}\n",
              "\n",
              "/* On hover, darken the color of the background */\n",
              "#sk-container-id-2 div.sk-label:hover label.sk-toggleable__label {\n",
              "  color: var(--sklearn-color-text);\n",
              "  background-color: var(--sklearn-color-unfitted-level-2);\n",
              "}\n",
              "\n",
              "/* Label box, darken color on hover, fitted */\n",
              "#sk-container-id-2 div.sk-label.fitted:hover label.sk-toggleable__label.fitted {\n",
              "  color: var(--sklearn-color-text);\n",
              "  background-color: var(--sklearn-color-fitted-level-2);\n",
              "}\n",
              "\n",
              "/* Estimator label */\n",
              "\n",
              "#sk-container-id-2 div.sk-label label {\n",
              "  font-family: monospace;\n",
              "  font-weight: bold;\n",
              "  display: inline-block;\n",
              "  line-height: 1.2em;\n",
              "}\n",
              "\n",
              "#sk-container-id-2 div.sk-label-container {\n",
              "  text-align: center;\n",
              "}\n",
              "\n",
              "/* Estimator-specific */\n",
              "#sk-container-id-2 div.sk-estimator {\n",
              "  font-family: monospace;\n",
              "  border: 1px dotted var(--sklearn-color-border-box);\n",
              "  border-radius: 0.25em;\n",
              "  box-sizing: border-box;\n",
              "  margin-bottom: 0.5em;\n",
              "  /* unfitted */\n",
              "  background-color: var(--sklearn-color-unfitted-level-0);\n",
              "}\n",
              "\n",
              "#sk-container-id-2 div.sk-estimator.fitted {\n",
              "  /* fitted */\n",
              "  background-color: var(--sklearn-color-fitted-level-0);\n",
              "}\n",
              "\n",
              "/* on hover */\n",
              "#sk-container-id-2 div.sk-estimator:hover {\n",
              "  /* unfitted */\n",
              "  background-color: var(--sklearn-color-unfitted-level-2);\n",
              "}\n",
              "\n",
              "#sk-container-id-2 div.sk-estimator.fitted:hover {\n",
              "  /* fitted */\n",
              "  background-color: var(--sklearn-color-fitted-level-2);\n",
              "}\n",
              "\n",
              "/* Specification for estimator info (e.g. \"i\" and \"?\") */\n",
              "\n",
              "/* Common style for \"i\" and \"?\" */\n",
              "\n",
              ".sk-estimator-doc-link,\n",
              "a:link.sk-estimator-doc-link,\n",
              "a:visited.sk-estimator-doc-link {\n",
              "  float: right;\n",
              "  font-size: smaller;\n",
              "  line-height: 1em;\n",
              "  font-family: monospace;\n",
              "  background-color: var(--sklearn-color-background);\n",
              "  border-radius: 1em;\n",
              "  height: 1em;\n",
              "  width: 1em;\n",
              "  text-decoration: none !important;\n",
              "  margin-left: 1ex;\n",
              "  /* unfitted */\n",
              "  border: var(--sklearn-color-unfitted-level-1) 1pt solid;\n",
              "  color: var(--sklearn-color-unfitted-level-1);\n",
              "}\n",
              "\n",
              ".sk-estimator-doc-link.fitted,\n",
              "a:link.sk-estimator-doc-link.fitted,\n",
              "a:visited.sk-estimator-doc-link.fitted {\n",
              "  /* fitted */\n",
              "  border: var(--sklearn-color-fitted-level-1) 1pt solid;\n",
              "  color: var(--sklearn-color-fitted-level-1);\n",
              "}\n",
              "\n",
              "/* On hover */\n",
              "div.sk-estimator:hover .sk-estimator-doc-link:hover,\n",
              ".sk-estimator-doc-link:hover,\n",
              "div.sk-label-container:hover .sk-estimator-doc-link:hover,\n",
              ".sk-estimator-doc-link:hover {\n",
              "  /* unfitted */\n",
              "  background-color: var(--sklearn-color-unfitted-level-3);\n",
              "  color: var(--sklearn-color-background);\n",
              "  text-decoration: none;\n",
              "}\n",
              "\n",
              "div.sk-estimator.fitted:hover .sk-estimator-doc-link.fitted:hover,\n",
              ".sk-estimator-doc-link.fitted:hover,\n",
              "div.sk-label-container:hover .sk-estimator-doc-link.fitted:hover,\n",
              ".sk-estimator-doc-link.fitted:hover {\n",
              "  /* fitted */\n",
              "  background-color: var(--sklearn-color-fitted-level-3);\n",
              "  color: var(--sklearn-color-background);\n",
              "  text-decoration: none;\n",
              "}\n",
              "\n",
              "/* Span, style for the box shown on hovering the info icon */\n",
              ".sk-estimator-doc-link span {\n",
              "  display: none;\n",
              "  z-index: 9999;\n",
              "  position: relative;\n",
              "  font-weight: normal;\n",
              "  right: .2ex;\n",
              "  padding: .5ex;\n",
              "  margin: .5ex;\n",
              "  width: min-content;\n",
              "  min-width: 20ex;\n",
              "  max-width: 50ex;\n",
              "  color: var(--sklearn-color-text);\n",
              "  box-shadow: 2pt 2pt 4pt #999;\n",
              "  /* unfitted */\n",
              "  background: var(--sklearn-color-unfitted-level-0);\n",
              "  border: .5pt solid var(--sklearn-color-unfitted-level-3);\n",
              "}\n",
              "\n",
              ".sk-estimator-doc-link.fitted span {\n",
              "  /* fitted */\n",
              "  background: var(--sklearn-color-fitted-level-0);\n",
              "  border: var(--sklearn-color-fitted-level-3);\n",
              "}\n",
              "\n",
              ".sk-estimator-doc-link:hover span {\n",
              "  display: block;\n",
              "}\n",
              "\n",
              "/* \"?\"-specific style due to the `<a>` HTML tag */\n",
              "\n",
              "#sk-container-id-2 a.estimator_doc_link {\n",
              "  float: right;\n",
              "  font-size: 1rem;\n",
              "  line-height: 1em;\n",
              "  font-family: monospace;\n",
              "  background-color: var(--sklearn-color-background);\n",
              "  border-radius: 1rem;\n",
              "  height: 1rem;\n",
              "  width: 1rem;\n",
              "  text-decoration: none;\n",
              "  /* unfitted */\n",
              "  color: var(--sklearn-color-unfitted-level-1);\n",
              "  border: var(--sklearn-color-unfitted-level-1) 1pt solid;\n",
              "}\n",
              "\n",
              "#sk-container-id-2 a.estimator_doc_link.fitted {\n",
              "  /* fitted */\n",
              "  border: var(--sklearn-color-fitted-level-1) 1pt solid;\n",
              "  color: var(--sklearn-color-fitted-level-1);\n",
              "}\n",
              "\n",
              "/* On hover */\n",
              "#sk-container-id-2 a.estimator_doc_link:hover {\n",
              "  /* unfitted */\n",
              "  background-color: var(--sklearn-color-unfitted-level-3);\n",
              "  color: var(--sklearn-color-background);\n",
              "  text-decoration: none;\n",
              "}\n",
              "\n",
              "#sk-container-id-2 a.estimator_doc_link.fitted:hover {\n",
              "  /* fitted */\n",
              "  background-color: var(--sklearn-color-fitted-level-3);\n",
              "}\n",
              "</style><div id=\"sk-container-id-2\" class=\"sk-top-container\"><div class=\"sk-text-repr-fallback\"><pre>GradientBoostingClassifier(random_state=42)</pre><b>In a Jupyter environment, please rerun this cell to show the HTML representation or trust the notebook. <br />On GitHub, the HTML representation is unable to render, please try loading this page with nbviewer.org.</b></div><div class=\"sk-container\" hidden><div class=\"sk-item\"><div class=\"sk-estimator fitted sk-toggleable\"><input class=\"sk-toggleable__control sk-hidden--visually\" id=\"sk-estimator-id-2\" type=\"checkbox\" checked><label for=\"sk-estimator-id-2\" class=\"sk-toggleable__label fitted sk-toggleable__label-arrow fitted\">&nbsp;&nbsp;GradientBoostingClassifier<a class=\"sk-estimator-doc-link fitted\" rel=\"noreferrer\" target=\"_blank\" href=\"https://scikit-learn.org/1.5/modules/generated/sklearn.ensemble.GradientBoostingClassifier.html\">?<span>Documentation for GradientBoostingClassifier</span></a><span class=\"sk-estimator-doc-link fitted\">i<span>Fitted</span></span></label><div class=\"sk-toggleable__content fitted\"><pre>GradientBoostingClassifier(random_state=42)</pre></div> </div></div></div></div>"
            ]
          },
          "metadata": {},
          "execution_count": 68
        }
      ]
    },
    {
      "cell_type": "code",
      "source": [
        "import pandas as pd\n",
        "from sklearn.model_selection import train_test_split\n",
        "from sklearn.feature_extraction.text import TfidfVectorizer\n",
        "from sklearn.linear_model import LogisticRegression\n",
        "from sklearn.ensemble import GradientBoostingClassifier\n",
        "from sklearn.metrics import accuracy_score, classification_report\n",
        "from transformers import pipeline # import pipeline for emotion detection\n",
        "\n",
        "\n",
        "# Load scraped data (replace with actual data files)\n",
        "pcos_df = pd.read_json(\"pcos_data_with_sentiment.json\")\n",
        "thyroid_df = pd.read_json(\"thyroid_data_with_sentiment.json\")\n",
        "\n",
        "# Initialize emotion detection model (make sure you've loaded the model before)\n",
        "emotion_analyzer = pipeline(\"text-classification\", model=\"j-hartmann/emotion-english-distilroberta-base\", truncation=True, max_length=512)\n",
        "\n",
        "# Function to detect emotions in text\n",
        "def detect_emotion(text):\n",
        "    if not isinstance(text, str):\n",
        "        text = \"\"  # Handle non-string values\n",
        "\n",
        "    # Run emotion detection with truncation (maximum length 512 tokens)\n",
        "    result = emotion_analyzer(text)\n",
        "\n",
        "    # Access the emotion label\n",
        "    if isinstance(result, list) and len(result) > 0:\n",
        "        emotion = result[0]['label']  # Access the emotion label\n",
        "    else:\n",
        "        emotion = \"Unknown\"  # Default case in case of any error\n",
        "\n",
        "    return emotion\n",
        "\n",
        "# Add the 'emotion' column to each DataFrame before combining\n",
        "pcos_df['emotion'] = pcos_df['selftext'].apply(detect_emotion)  # Applying emotion detection\n",
        "thyroid_df['emotion'] = thyroid_df['selftext'].apply(detect_emotion) # Applying emotion detection\n",
        "\n",
        "# Combine PCOS and Thyroid datasets for ML\n",
        "combined_df = pd.concat([pcos_df, thyroid_df], ignore_index=True)\n",
        "\n",
        "# Handle None values in 'selftext' column before vectorization\n",
        "combined_df['selftext'] = combined_df['selftext'].fillna('')  # Replace None with empty string\n",
        "\n",
        "# Text vectorization\n",
        "vectorizer = TfidfVectorizer(stop_words='english', max_features=5000)\n",
        "X = vectorizer.fit_transform(combined_df['selftext'])\n",
        "y = combined_df['emotion'] # Now 'emotion' column should exist\n",
        "\n",
        "# Split data into training and testing sets\n",
        "X_train, X_test, y_train, y_test = train_test_split(X, y, test_size=0.2, random_state=42)\n",
        "\n",
        "# Logistic Regression\n",
        "lr_model = LogisticRegression(max_iter=1000, random_state=42)\n",
        "lr_model.fit(X_train, y_train)\n",
        "y_pred_lr = lr_model.predict(X_test)\n",
        "print(\"Logistic Regression Accuracy:\", accuracy_score(y_test, y_pred_lr))\n",
        "print(\"Logistic Regression Classification Report:\\n\", classification_report(y_test, y_pred_lr))\n",
        "\n",
        "# Gradient Boosting Classifier\n",
        "gb_model = GradientBoostingClassifier(n_estimators=100, random_state=42)\n",
        "gb_model.fit(X_train, y_train)\n",
        "y_pred_gb = gb_model.predict(X_test)\n",
        "print(\"Gradient Boosting Accuracy:\", accuracy_score(y_test, y_pred_gb))\n",
        "print(\"Gradient Boosting Classification Report:\\n\", classification_report(y_test, y_pred_gb))"
      ],
      "metadata": {
        "colab": {
          "base_uri": "https://localhost:8080/"
        },
        "id": "WdBVHzlITAdf",
        "outputId": "47e1251c-7c7b-430e-f5ec-1fa79eecb266"
      },
      "execution_count": 69,
      "outputs": [
        {
          "output_type": "stream",
          "name": "stdout",
          "text": [
            "Logistic Regression Accuracy: 0.4146341463414634\n",
            "Logistic Regression Classification Report:\n",
            "               precision    recall  f1-score   support\n",
            "\n",
            "       anger       0.00      0.00      0.00         1\n",
            "        fear       0.47      0.53      0.50        15\n",
            "         joy       0.00      0.00      0.00         1\n",
            "     neutral       0.38      0.64      0.47        14\n",
            "     sadness       0.00      0.00      0.00         7\n",
            "    surprise       0.00      0.00      0.00         3\n",
            "\n",
            "    accuracy                           0.41        41\n",
            "   macro avg       0.14      0.20      0.16        41\n",
            "weighted avg       0.30      0.41      0.34        41\n",
            "\n"
          ]
        },
        {
          "output_type": "stream",
          "name": "stderr",
          "text": [
            "/usr/local/lib/python3.10/dist-packages/sklearn/metrics/_classification.py:1531: UndefinedMetricWarning: Precision is ill-defined and being set to 0.0 in labels with no predicted samples. Use `zero_division` parameter to control this behavior.\n",
            "  _warn_prf(average, modifier, f\"{metric.capitalize()} is\", len(result))\n",
            "/usr/local/lib/python3.10/dist-packages/sklearn/metrics/_classification.py:1531: UndefinedMetricWarning: Precision is ill-defined and being set to 0.0 in labels with no predicted samples. Use `zero_division` parameter to control this behavior.\n",
            "  _warn_prf(average, modifier, f\"{metric.capitalize()} is\", len(result))\n",
            "/usr/local/lib/python3.10/dist-packages/sklearn/metrics/_classification.py:1531: UndefinedMetricWarning: Precision is ill-defined and being set to 0.0 in labels with no predicted samples. Use `zero_division` parameter to control this behavior.\n",
            "  _warn_prf(average, modifier, f\"{metric.capitalize()} is\", len(result))\n"
          ]
        },
        {
          "output_type": "stream",
          "name": "stdout",
          "text": [
            "Gradient Boosting Accuracy: 0.4146341463414634\n",
            "Gradient Boosting Classification Report:\n",
            "               precision    recall  f1-score   support\n",
            "\n",
            "       anger       0.00      0.00      0.00         1\n",
            "     disgust       0.00      0.00      0.00         0\n",
            "        fear       0.44      0.53      0.48        15\n",
            "         joy       0.00      0.00      0.00         1\n",
            "     neutral       0.45      0.64      0.53        14\n",
            "     sadness       0.00      0.00      0.00         7\n",
            "    surprise       0.00      0.00      0.00         3\n",
            "\n",
            "    accuracy                           0.41        41\n",
            "   macro avg       0.13      0.17      0.14        41\n",
            "weighted avg       0.32      0.41      0.36        41\n",
            "\n"
          ]
        },
        {
          "output_type": "stream",
          "name": "stderr",
          "text": [
            "/usr/local/lib/python3.10/dist-packages/sklearn/metrics/_classification.py:1531: UndefinedMetricWarning: Precision is ill-defined and being set to 0.0 in labels with no predicted samples. Use `zero_division` parameter to control this behavior.\n",
            "  _warn_prf(average, modifier, f\"{metric.capitalize()} is\", len(result))\n",
            "/usr/local/lib/python3.10/dist-packages/sklearn/metrics/_classification.py:1531: UndefinedMetricWarning: Recall is ill-defined and being set to 0.0 in labels with no true samples. Use `zero_division` parameter to control this behavior.\n",
            "  _warn_prf(average, modifier, f\"{metric.capitalize()} is\", len(result))\n",
            "/usr/local/lib/python3.10/dist-packages/sklearn/metrics/_classification.py:1531: UndefinedMetricWarning: Precision is ill-defined and being set to 0.0 in labels with no predicted samples. Use `zero_division` parameter to control this behavior.\n",
            "  _warn_prf(average, modifier, f\"{metric.capitalize()} is\", len(result))\n",
            "/usr/local/lib/python3.10/dist-packages/sklearn/metrics/_classification.py:1531: UndefinedMetricWarning: Recall is ill-defined and being set to 0.0 in labels with no true samples. Use `zero_division` parameter to control this behavior.\n",
            "  _warn_prf(average, modifier, f\"{metric.capitalize()} is\", len(result))\n",
            "/usr/local/lib/python3.10/dist-packages/sklearn/metrics/_classification.py:1531: UndefinedMetricWarning: Precision is ill-defined and being set to 0.0 in labels with no predicted samples. Use `zero_division` parameter to control this behavior.\n",
            "  _warn_prf(average, modifier, f\"{metric.capitalize()} is\", len(result))\n",
            "/usr/local/lib/python3.10/dist-packages/sklearn/metrics/_classification.py:1531: UndefinedMetricWarning: Recall is ill-defined and being set to 0.0 in labels with no true samples. Use `zero_division` parameter to control this behavior.\n",
            "  _warn_prf(average, modifier, f\"{metric.capitalize()} is\", len(result))\n"
          ]
        }
      ]
    },
    {
      "cell_type": "code",
      "source": [
        "from sklearn.preprocessing import LabelEncoder\n",
        "from sklearn.feature_extraction.text import TfidfVectorizer\n",
        "from sklearn.model_selection import StratifiedKFold, train_test_split\n",
        "from sklearn.svm import SVC\n",
        "from xgboost import XGBClassifier\n",
        "from imblearn.over_sampling import SMOTE\n",
        "from sklearn.model_selection import GridSearchCV\n",
        "from sklearn.metrics import accuracy_score, classification_report\n",
        "\n",
        "# Load the scraped data\n",
        "data = pd.read_csv('reddit_health_data_with_emotions.csv')  # Replace with your actual file\n",
        "\n",
        "# Prepare features and labels\n",
        "X = data['selftext']\n",
        "y = data['emotion']\n",
        "\n",
        "# Convert string labels to numeric labels\n",
        "label_encoder = LabelEncoder()\n",
        "y_encoded = label_encoder.fit_transform(y)\n",
        "\n",
        "# Check class distribution before SMOTE\n",
        "print(\"Class distribution before SMOTE:\")\n",
        "print(pd.Series(y_encoded).value_counts())\n",
        "\n",
        "# Text vectorization (create dense TF-IDF representation)\n",
        "vectorizer = TfidfVectorizer(stop_words='english', max_features=5000)\n",
        "X_tfidf = vectorizer.fit_transform(X)  # Apply TF-IDF\n",
        "X_tfidf_dense = X_tfidf.toarray()\n",
        "\n",
        "# Handle class imbalance with SMOTE (only if there's enough data)\n",
        "if pd.Series(y_encoded).value_counts().min() > 1:\n",
        "    smote = SMOTE(random_state=42)\n",
        "    X_res, y_res = smote.fit_resample(X_tfidf_dense, y_encoded)\n",
        "else:\n",
        "    X_res, y_res = X_tfidf_dense, y_encoded\n",
        "\n",
        "# Split the data into training and test sets\n",
        "X_train, X_test, y_train, y_test = train_test_split(X_res, y_res, test_size=0.2, random_state=42)\n",
        "\n",
        "# Initialize models\n",
        "svc = SVC()\n",
        "xgb = XGBClassifier(eval_metric='mlogloss', scale_pos_weight=1)\n",
        "\n",
        "# Hyperparameter tuning for SVC\n",
        "svc_param_grid = {\n",
        "    'C': [0.1, 1, 10],\n",
        "    'kernel': ['linear', 'rbf']\n",
        "}\n",
        "svc_grid = GridSearchCV(svc, svc_param_grid, cv=2, scoring='accuracy')  # Adjust CV to 2 folds\n",
        "svc_grid.fit(X_train, y_train)\n",
        "svc_best = svc_grid.best_estimator_\n",
        "\n",
        "# Hyperparameter tuning for XGBoost\n",
        "xgb_param_grid = {\n",
        "    'max_depth': [3, 5, 7],\n",
        "    'learning_rate': [0.01, 0.1, 0.3],\n",
        "    'n_estimators': [100, 200]\n",
        "}\n",
        "xgb_grid = GridSearchCV(xgb, xgb_param_grid, cv=2, scoring='accuracy')  # Adjust CV to 2 folds\n",
        "xgb_grid.fit(X_train, y_train)\n",
        "xgb_best = xgb_grid.best_estimator_\n",
        "\n",
        "# Evaluate models\n",
        "y_pred_svc = svc_best.predict(X_test)\n",
        "svc_accuracy = accuracy_score(y_test, y_pred_svc)\n",
        "print(\"SVC Accuracy:\", svc_accuracy)\n",
        "print(\"SVC Classification Report:\\n\", classification_report(y_test, y_pred_svc))\n",
        "\n",
        "y_pred_xgb = xgb_best.predict(X_test)\n",
        "xgb_accuracy = accuracy_score(y_test, y_pred_xgb)\n",
        "print(\"XGBoost Accuracy:\", xgb_accuracy)\n",
        "print(\"XGBoost Classification Report:\\n\", classification_report(y_test, y_pred_xgb))\n"
      ],
      "metadata": {
        "colab": {
          "base_uri": "https://localhost:8080/"
        },
        "id": "25cpBkTw31EY",
        "outputId": "1a07f2ee-e33a-4ac5-90a7-8d49b3013b15"
      },
      "execution_count": 71,
      "outputs": [
        {
          "output_type": "stream",
          "name": "stdout",
          "text": [
            "Class distribution before SMOTE:\n",
            "0    3\n",
            "1    1\n",
            "Name: count, dtype: int64\n"
          ]
        },
        {
          "output_type": "stream",
          "name": "stderr",
          "text": [
            "/usr/local/lib/python3.10/dist-packages/sklearn/model_selection/_split.py:776: UserWarning: The least populated class in y has only 1 members, which is less than n_splits=2.\n",
            "  warnings.warn(\n",
            "/usr/local/lib/python3.10/dist-packages/sklearn/model_selection/_validation.py:540: FitFailedWarning: \n",
            "6 fits failed out of a total of 12.\n",
            "The score on these train-test partitions for these parameters will be set to nan.\n",
            "If these failures are not expected, you can try to debug them by setting error_score='raise'.\n",
            "\n",
            "Below are more details about the failures:\n",
            "--------------------------------------------------------------------------------\n",
            "6 fits failed with the following error:\n",
            "Traceback (most recent call last):\n",
            "  File \"/usr/local/lib/python3.10/dist-packages/sklearn/model_selection/_validation.py\", line 888, in _fit_and_score\n",
            "    estimator.fit(X_train, y_train, **fit_params)\n",
            "  File \"/usr/local/lib/python3.10/dist-packages/sklearn/base.py\", line 1473, in wrapper\n",
            "    return fit_method(estimator, *args, **kwargs)\n",
            "  File \"/usr/local/lib/python3.10/dist-packages/sklearn/svm/_base.py\", line 199, in fit\n",
            "    y = self._validate_targets(y)\n",
            "  File \"/usr/local/lib/python3.10/dist-packages/sklearn/svm/_base.py\", line 742, in _validate_targets\n",
            "    raise ValueError(\n",
            "ValueError: The number of classes has to be greater than one; got 1 class\n",
            "\n",
            "  warnings.warn(some_fits_failed_message, FitFailedWarning)\n",
            "/usr/local/lib/python3.10/dist-packages/sklearn/model_selection/_search.py:1103: UserWarning: One or more of the test scores are non-finite: [nan nan nan nan nan nan]\n",
            "  warnings.warn(\n",
            "/usr/local/lib/python3.10/dist-packages/sklearn/model_selection/_split.py:776: UserWarning: The least populated class in y has only 1 members, which is less than n_splits=2.\n",
            "  warnings.warn(\n"
          ]
        },
        {
          "output_type": "stream",
          "name": "stdout",
          "text": [
            "SVC Accuracy: 1.0\n",
            "SVC Classification Report:\n",
            "               precision    recall  f1-score   support\n",
            "\n",
            "           0       1.00      1.00      1.00         1\n",
            "\n",
            "    accuracy                           1.00         1\n",
            "   macro avg       1.00      1.00      1.00         1\n",
            "weighted avg       1.00      1.00      1.00         1\n",
            "\n",
            "XGBoost Accuracy: 1.0\n",
            "XGBoost Classification Report:\n",
            "               precision    recall  f1-score   support\n",
            "\n",
            "           0       1.00      1.00      1.00         1\n",
            "\n",
            "    accuracy                           1.00         1\n",
            "   macro avg       1.00      1.00      1.00         1\n",
            "weighted avg       1.00      1.00      1.00         1\n",
            "\n"
          ]
        }
      ]
    }
  ]
}